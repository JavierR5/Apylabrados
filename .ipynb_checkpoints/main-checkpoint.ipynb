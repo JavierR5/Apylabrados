{
 "cells": [
  {
   "cell_type": "code",
   "execution_count": 1,
   "id": "compressed-edwards",
   "metadata": {},
   "outputs": [],
   "source": [
    "import ApylabradosModule as ap\n",
    "import util as util"
   ]
  },
  {
   "cell_type": "code",
   "execution_count": 2,
   "id": "latest-benefit",
   "metadata": {},
   "outputs": [],
   "source": [
    "#Creando bolsa\n",
    "bag_of_pawns = ap.Pawn()\n",
    "bag_of_pawns.createBag()"
   ]
  },
  {
   "cell_type": "code",
   "execution_count": 3,
   "id": "collaborative-performer",
   "metadata": {},
   "outputs": [],
   "source": [
    "#Creando fichas de jugador\n",
    "player_pawns = ap.Pawn()\n",
    "for i in range(7):\n",
    "    player_pawns.addPawn(bag_of_pawns.takeRandomPawn())"
   ]
  },
  {
   "cell_type": "code",
   "execution_count": 4,
   "id": "laden-demand",
   "metadata": {
    "scrolled": true
   },
   "outputs": [],
   "source": [
    "#Creando Tablero\n",
    "tablero = ap.Board()\n",
    "tablero.setUpMultiplier()"
   ]
  },
  {
   "cell_type": "code",
   "execution_count": 5,
   "id": "supported-technique",
   "metadata": {},
   "outputs": [],
   "source": [
    "#Creando Diccionario\n",
    "diccionario = ap.Dictionary()"
   ]
  },
  {
   "cell_type": "code",
   "execution_count": 6,
   "id": "careful-breath",
   "metadata": {},
   "outputs": [
    {
     "name": "stdout",
     "output_type": "stream",
     "text": [
      "Bienvido a Apylabrado!!\n",
      "Las instrucciones para jugar son:\n",
      "1-Introduce las Palabras en MAYUSCULAS\n",
      "2-La primera palabra debe pasar por la casilla central\n",
      "3-Salvo la primera palabra, todas deben ocupar como minimo una ficha ya existente en el tablero\n",
      "4-Solo hay dos direcciones para colores las fichas: Vertical(V) y Horizontal(H)\n"
     ]
    }
   ],
   "source": [
    "#Dando Bienvenida y mostrando Instrucciones\n",
    "util.Welcome()\n",
    "util.Instruction()"
   ]
  },
  {
   "cell_type": "code",
   "execution_count": 7,
   "id": "chronic-wound",
   "metadata": {},
   "outputs": [],
   "source": [
    "#Dummy para salir del juego\n",
    "dummy = True"
   ]
  },
  {
   "cell_type": "code",
   "execution_count": 8,
   "id": "decimal-ultimate",
   "metadata": {},
   "outputs": [
    {
     "ename": "NameError",
     "evalue": "name 'player_pawns' is not defined",
     "output_type": "error",
     "traceback": [
      "\u001b[0;31m---------------------------------------------------------------------------\u001b[0m",
      "\u001b[0;31mNameError\u001b[0m                                 Traceback (most recent call last)",
      "\u001b[0;32m<ipython-input-8-fa14cda696ad>\u001b[0m in \u001b[0;36m<module>\u001b[0;34m\u001b[0m\n\u001b[0;32m----> 1\u001b[0;31m \u001b[0mtablero\u001b[0m\u001b[0;34m.\u001b[0m\u001b[0mshowBoard\u001b[0m\u001b[0;34m(\u001b[0m\u001b[0mplayer_pawns\u001b[0m\u001b[0;34m)\u001b[0m\u001b[0;34m\u001b[0m\u001b[0;34m\u001b[0m\u001b[0m\n\u001b[0m\u001b[1;32m      2\u001b[0m \u001b[0;32mwhile\u001b[0m \u001b[0mdummy\u001b[0m \u001b[0;32mand\u001b[0m \u001b[0mplayer_pawns\u001b[0m\u001b[0;34m.\u001b[0m\u001b[0mletter\u001b[0m \u001b[0;34m!=\u001b[0m \u001b[0;34m[\u001b[0m\u001b[0;34m]\u001b[0m\u001b[0;34m:\u001b[0m\u001b[0;34m\u001b[0m\u001b[0;34m\u001b[0m\u001b[0m\n\u001b[1;32m      3\u001b[0m     \u001b[0mopcion\u001b[0m \u001b[0;34m=\u001b[0m \u001b[0mint\u001b[0m\u001b[0;34m(\u001b[0m\u001b[0minput\u001b[0m\u001b[0;34m(\u001b[0m\u001b[0;34m\"1-Introducir Palabra\\n2-Pedir Ayuda\\n3-Ver estadisticas\\n4-Salir del Juego\\nOpcion:\"\u001b[0m\u001b[0;34m)\u001b[0m\u001b[0;34m)\u001b[0m\u001b[0;34m\u001b[0m\u001b[0;34m\u001b[0m\u001b[0m\n\u001b[1;32m      4\u001b[0m     \u001b[0;31m#Jugar introduciendo Palabra\u001b[0m\u001b[0;34m\u001b[0m\u001b[0;34m\u001b[0m\u001b[0;34m\u001b[0m\u001b[0m\n\u001b[1;32m      5\u001b[0m     \u001b[0;32mif\u001b[0m \u001b[0mopcion\u001b[0m \u001b[0;34m==\u001b[0m \u001b[0;36m1\u001b[0m\u001b[0;34m:\u001b[0m\u001b[0;34m\u001b[0m\u001b[0;34m\u001b[0m\u001b[0m\n",
      "\u001b[0;32m~/Udemy/Python3/ApylabradosModule.py\u001b[0m in \u001b[0;36mshowBoard\u001b[0;34m(self, player_pawn)\u001b[0m\n\u001b[1;32m    298\u001b[0m \u001b[0;34m\u001b[0m\u001b[0m\n\u001b[1;32m    299\u001b[0m         \u001b[0;31m#Agregando Fichas a la bolsa\u001b[0m\u001b[0;34m\u001b[0m\u001b[0;34m\u001b[0m\u001b[0;34m\u001b[0m\u001b[0m\n\u001b[0;32m--> 300\u001b[0;31m         \u001b[0;32mfor\u001b[0m \u001b[0m_\u001b[0m \u001b[0;32min\u001b[0m \u001b[0mrange\u001b[0m\u001b[0;34m(\u001b[0m\u001b[0;36m7\u001b[0m\u001b[0;34m-\u001b[0m\u001b[0mplayer_pawns\u001b[0m\u001b[0;34m.\u001b[0m\u001b[0mgetTotalPawn\u001b[0m\u001b[0;34m(\u001b[0m\u001b[0;34m)\u001b[0m\u001b[0;34m)\u001b[0m\u001b[0;34m:\u001b[0m\u001b[0;34m\u001b[0m\u001b[0;34m\u001b[0m\u001b[0m\n\u001b[0m\u001b[1;32m    301\u001b[0m             \u001b[0;32mif\u001b[0m \u001b[0mbag_of_pawns\u001b[0m\u001b[0;34m.\u001b[0m\u001b[0mletter\u001b[0m \u001b[0;34m==\u001b[0m \u001b[0;34m[\u001b[0m\u001b[0;34m]\u001b[0m\u001b[0;34m:\u001b[0m\u001b[0;34m\u001b[0m\u001b[0;34m\u001b[0m\u001b[0m\n\u001b[1;32m    302\u001b[0m                 \u001b[0mprint\u001b[0m\u001b[0;34m(\u001b[0m\u001b[0;34m\"Las fichas de la bolsa se acabaron\"\u001b[0m\u001b[0;34m)\u001b[0m\u001b[0;34m\u001b[0m\u001b[0;34m\u001b[0m\u001b[0m\n",
      "\u001b[0;31mNameError\u001b[0m: name 'player_pawns' is not defined"
     ]
    },
    {
     "data": {
      "image/png": "[encoded data removed]",
      "text/plain": [
       "<Figure size 720x720 with 1 Axes>"
      ]
     },
     "metadata": {
      "needs_background": "light"
     },
     "output_type": "display_data"
    }
   ],
   "source": [
    "tablero.showBoard(player_pawns,bag_of_pawns)\n",
    "while dummy and player_pawns.letter != []:\n",
    "    opcion = int(input(\"1-Introducir Palabra\\n2-Pedir Ayuda\\n3-Ver estadisticas\\n4-Salir del Juego\\nOpcion:\"))\n",
    "    #Jugar introduciendo Palabra\n",
    "    if opcion == 1:\n",
    "        word = ap.Word.readWord(input(\"Ingrese una palabra:\"))\n",
    "        x =  int(input(\"Ingrese n° fila:\"))\n",
    "        y =  int(input(\"Ingrese n° columna:\"))\n",
    "        direccion = input(\"Ingrese direccion:\")\n",
    "        tabla_jugador = player_pawns.getFrequency()\n",
    "        palabra_a_poner = tablero.getPawns(word,x,y,direccion)\n",
    "        tabla_palabra = palabra_a_poner.getFrequency()\n",
    "        if (not palabra_a_poner.isEmpty()) and (ap.FrequencyTable.isSubset(tabla_palabra,tabla_jugador)):\n",
    "            tablero.placeWord(player_pawns,word,x,y,direccion)\n",
    "        else:\n",
    "            print(tablero.isPossible(word,x,y,direccion)[1])\n",
    "        tablero.showBoard(player_pawns,bag_of_pawns)\n",
    "    #Ayuda\n",
    "    elif opcion == 2:\n",
    "        opcion = int(input(\"1-Ver Palabras que se puede formar\\n2-Ver palabras que se pueden formar con cierta Letra\\n3-Ver en que posicion se puede poner cierta Palabra\\nOpcion:\"))\n",
    "        #Ver Posibles Palabras\n",
    "        if opcion == 1:\n",
    "            print(\"----+\"*5)\n",
    "            diccionario.showWord(player_pawns)\n",
    "            print(\"----+\"*5)\n",
    "        #Ver Posibles palabras con char c\n",
    "        elif opcion == 2:\n",
    "            print(\"----+\"*5)\n",
    "            diccionario.showWordPlus(player_pawns,input(\"Ingrese una letra:\"))\n",
    "            print(\"----+\"*5)\n",
    "        #Ver Posibles lugares dada una palabra\n",
    "        elif opcion == 3:\n",
    "            print(\"----+\"*5)\n",
    "            tablero.showWordPlacement(player_pawns,ap.Word.readWord(input(\"Ingrese una Palabra:\")))\n",
    "            print(\"----+\"*5)\n",
    "        #Opcion no valida\n",
    "        else:\n",
    "            print(\"Opcion no Valida\")\n",
    "    #Estadisticas\n",
    "    elif opcion == 3:\n",
    "        opcion = int(input(\"1-Ver Fichas\\n2-Puntos de cada ficha\\n3-Ver Tablero\\nOpcion:\"))\n",
    "        #Ver fichas\n",
    "        if opcion == 1:\n",
    "            print(\"----+\"*5)\n",
    "            player_pawns.showPawn()\n",
    "            print(\"----+\"*5)\n",
    "        #Ver puntos de las fichas\n",
    "        elif opcion == 2:\n",
    "            print(\"----+\"*5)\n",
    "            ap.Pawn.showPawnPoints()\n",
    "            print(\"----+\"*5)\n",
    "        #Ver Tablero\n",
    "        elif opcion == 3:\n",
    "            tablero.showBoard(player_pawns,bag_of_pawns)\n",
    "        #Opcion no valida\n",
    "        else:\n",
    "            print(\"Opcion no valida\")\n",
    "    #Terminar Juego\n",
    "    elif opcion == 4:\n",
    "        dummy = False\n",
    "    #Opcion no valida\n",
    "    else:\n",
    "        print(\"Opcion no Valida\")\n",
    "\n",
    "print(\"Gracias por jugar\")\n",
    "print(\"Puntos conseguidos:{}\".format(tablero.score))\n",
    "print(\"Fichas Puestas:{}\".format(tablero.totalPawn))\n",
    "print(\"Palabras Puestas:{}\".format(tablero.totalWords))"
   ]
  }
 ],
 "metadata": {
  "kernelspec": {
   "display_name": "Python 3",
   "language": "python",
   "name": "python3"
  },
  "language_info": {
   "codemirror_mode": {
    "name": "ipython",
    "version": 3
   },
   "file_extension": ".py",
   "mimetype": "text/x-python",
   "name": "python",
   "nbconvert_exporter": "python",
   "pygments_lexer": "ipython3",
   "version": "3.7.10"
  }
 },
 "nbformat": 4,
 "nbformat_minor": 5
}
