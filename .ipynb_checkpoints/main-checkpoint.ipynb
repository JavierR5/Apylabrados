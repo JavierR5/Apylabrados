{
 "cells": [
  {
   "cell_type": "code",
   "execution_count": 25,
   "id": "passive-regular",
   "metadata": {},
   "outputs": [],
   "source": [
    "import ApylabradosModule as ap\n",
    "import util as util"
   ]
  },
  {
   "cell_type": "code",
   "execution_count": 13,
   "id": "hollow-madrid",
   "metadata": {},
   "outputs": [],
   "source": [
    "#Creando bolsa\n",
    "bag_of_pawns = ap.Pawn()\n",
    "bag_of_pawns.createBag()"
   ]
  },
  {
   "cell_type": "code",
   "execution_count": 14,
   "id": "advisory-deputy",
   "metadata": {},
   "outputs": [],
   "source": [
    "#Creando fichas de jugador\n",
    "player_pawns = ap.Pawn()\n",
    "for i in range(7):\n",
    "    player_pawns.addPawn(bag_of_pawns.takeRandomPawn())"
   ]
  },
  {
   "cell_type": "code",
   "execution_count": 15,
   "id": "acceptable-afternoon",
   "metadata": {},
   "outputs": [],
   "source": [
    "#Creando Tablero\n",
    "tablero = ap.Board()"
   ]
  },
  {
   "cell_type": "code",
   "execution_count": 16,
   "id": "mineral-adventure",
   "metadata": {},
   "outputs": [],
   "source": [
    "#Creando Diccionario\n",
    "diccionario = ap.Dictionary()"
   ]
  },
  {
   "cell_type": "code",
   "execution_count": 28,
   "id": "effective-amendment",
   "metadata": {},
   "outputs": [
    {
     "ename": "NameError",
     "evalue": "name 'util' is not defined",
     "output_type": "error",
     "traceback": [
      "\u001b[0;31m---------------------------------------------------------------------------\u001b[0m",
      "\u001b[0;31mNameError\u001b[0m                                 Traceback (most recent call last)",
      "\u001b[0;32m<ipython-input-28-f690e9e7da1f>\u001b[0m in \u001b[0;36m<module>\u001b[0;34m\u001b[0m\n\u001b[1;32m      1\u001b[0m \u001b[0;31m#Dando Bienvenida y mostrando Instrucciones\u001b[0m\u001b[0;34m\u001b[0m\u001b[0;34m\u001b[0m\u001b[0;34m\u001b[0m\u001b[0m\n\u001b[0;32m----> 2\u001b[0;31m \u001b[0mutil\u001b[0m\u001b[0;34m.\u001b[0m\u001b[0mWelcome\u001b[0m\u001b[0;34m(\u001b[0m\u001b[0;34m)\u001b[0m\u001b[0;34m\u001b[0m\u001b[0;34m\u001b[0m\u001b[0m\n\u001b[0m\u001b[1;32m      3\u001b[0m \u001b[0mInstruction\u001b[0m\u001b[0;34m(\u001b[0m\u001b[0;34m)\u001b[0m\u001b[0;34m\u001b[0m\u001b[0;34m\u001b[0m\u001b[0m\n",
      "\u001b[0;31mNameError\u001b[0m: name 'util' is not defined"
     ]
    }
   ],
   "source": [
    "#Dando Bienvenida y mostrando Instrucciones\n",
    "util.Welcome()\n",
    "Instruction()"
   ]
  }
 ],
 "metadata": {
  "kernelspec": {
   "display_name": "Python 3",
   "language": "python",
   "name": "python3"
  },
  "language_info": {
   "codemirror_mode": {
    "name": "ipython",
    "version": 3
   },
   "file_extension": ".py",
   "mimetype": "text/x-python",
   "name": "python",
   "nbconvert_exporter": "python",
   "pygments_lexer": "ipython3",
   "version": "3.7.10"
  }
 },
 "nbformat": 4,
 "nbformat_minor": 5
}
