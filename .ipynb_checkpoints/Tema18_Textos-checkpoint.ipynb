{
 "cells": [
  {
   "cell_type": "markdown",
   "metadata": {
    "id": "tFwm2WhMiR7F"
   },
   "source": [
    "# Archivos `txt` y `csv`"
   ]
  },
  {
   "cell_type": "markdown",
   "metadata": {
    "id": "YmXrRVwXkltU"
   },
   "source": [
    "## Leyendo el primer `txt`\n",
    "\n",
    "Vamos a crear un archivo `txt` con Text Editor que diga\n",
    "\n",
    "\"¡Qué ilusión! Vamos a cargar por primera vez un archivo `txt` con `Python`\"\n",
    "\n",
    "y lo guardaremos en la carpeta datasets con el nombre `first_read.txt`.\n",
    "\n",
    "A continuación, vamos a cargar el archivo que acabamos de crear en este mismo notebook. Para ello vamos a usar la función `open()` y los métodos `.read()` y `.close()`, para abrir, leer y cerrar, respectivamente, el archivo `txt`.\n",
    "\n",
    "**Observación.** Para poder cargar algún archivo que tengamos guardado en Google Drive, habrá que conectar el propio notebook con Drive."
   ]
  },
  {
   "cell_type": "code",
   "execution_count": 2,
   "metadata": {
    "colab": {
     "base_uri": "https://localhost:8080/"
    },
    "executionInfo": {
     "elapsed": 91508,
     "status": "ok",
     "timestamp": 1616443889442,
     "user": {
      "displayName": "Javier Rojas",
      "photoUrl": "",
      "userId": "16127771820052989754"
     },
     "user_tz": 180
    },
    "id": "McGpP0G7bz2R",
    "outputId": "169a8e55-a193-4c73-cf96-d8272acc1a4f"
   },
   "outputs": [
    {
     "name": "stdout",
     "output_type": "stream",
     "text": [
      "Mounted at /content/drive\n"
     ]
    }
   ],
   "source": [
    "from google.colab import drive\n",
    "drive.mount('/content/drive')"
   ]
  },
  {
   "cell_type": "code",
   "execution_count": 2,
   "metadata": {
    "colab": {
     "base_uri": "https://localhost:8080/"
    },
    "executionInfo": {
     "elapsed": 1633,
     "status": "ok",
     "timestamp": 1616437215331,
     "user": {
      "displayName": "Javier Rojas",
      "photoUrl": "",
      "userId": "16127771820052989754"
     },
     "user_tz": 180
    },
    "id": "-aIoVSfoiMKP",
    "outputId": "b4e1e7b1-43cc-472b-cc2c-6021e33f8ba4"
   },
   "outputs": [
    {
     "name": "stdout",
     "output_type": "stream",
     "text": [
      "\"¡Qué ilusión! Vamos a cargar por primera vez un archivo txt con Python\"\n"
     ]
    }
   ],
   "source": [
    "f = open(\"/content/drive/MyDrive/Inteligencia_Artificial/Python/txt_csv/first_read.txt\")\n",
    "print(f.read())\n",
    "f.close()"
   ]
  },
  {
   "cell_type": "markdown",
   "metadata": {
    "id": "1srvprWkpm6_"
   },
   "source": [
    "* La función `open()` abre el archivo indicado y nos permite acceder a él. Como parámetro necesita el path del archivo que queremos abrir.\n",
    "* El método `.read()` lo usamos para leer el contenido del output que nos proporciona la función `open()` al cual hemos llamado `f`\n",
    "* Cuando hayamos acabado de trabajar con el archivo `f`, hay que cerrarlo. Este proceso se lleva a cabo con el método `.close()`\n"
   ]
  },
  {
   "cell_type": "markdown",
   "metadata": {
    "id": "_4HZO2klqoQP"
   },
   "source": [
    "Otra forma de abrir el archivo y guardarlo en la variable `f` sería:"
   ]
  },
  {
   "cell_type": "code",
   "execution_count": 4,
   "metadata": {
    "colab": {
     "base_uri": "https://localhost:8080/"
    },
    "executionInfo": {
     "elapsed": 680,
     "status": "ok",
     "timestamp": 1616437255188,
     "user": {
      "displayName": "Javier Rojas",
      "photoUrl": "",
      "userId": "16127771820052989754"
     },
     "user_tz": 180
    },
    "id": "e7gNakACqv_Z",
    "outputId": "7cdf46b5-107e-44a5-b180-353fbc076689"
   },
   "outputs": [
    {
     "name": "stdout",
     "output_type": "stream",
     "text": [
      "\"¡Qué ilusión! Vamos a cargar por primera vez un archivo txt con Python\"\n"
     ]
    }
   ],
   "source": [
    "with open(\"/content/drive/MyDrive/Inteligencia_Artificial/Python/txt_csv/first_read.txt\") as f:\n",
    "  print(f.read())"
   ]
  },
  {
   "cell_type": "markdown",
   "metadata": {
    "id": "joCOZWxaq8HP"
   },
   "source": [
    "**Observación.** Con esta nueva sintaxis ya no es necesario hacer uso del método `.close()` para cerrar el archivo `f`. El comando `with` garantiza que el objeto `file` precedente, `f`, se cerrará automáticamente después de salir del bloque de código."
   ]
  },
  {
   "cell_type": "markdown",
   "metadata": {
    "id": "zv6M-RO1qL_1"
   },
   "source": [
    "### Leyendo parcialmente un archivo\n",
    "\n",
    "Dado un archivo `txt` abierto con la función `open()`, no es necesario leerlo al completo. Si solamente nos interesase leer una parte, podríamos indicárselo por parámetro al método `.read()`\n",
    "\n",
    "En el siguiente chunk de código vamos a leer solamente los 7 primeros caracteres del archivo `f`"
   ]
  },
  {
   "cell_type": "code",
   "execution_count": 5,
   "metadata": {
    "colab": {
     "base_uri": "https://localhost:8080/"
    },
    "executionInfo": {
     "elapsed": 681,
     "status": "ok",
     "timestamp": 1616437299505,
     "user": {
      "displayName": "Javier Rojas",
      "photoUrl": "",
      "userId": "16127771820052989754"
     },
     "user_tz": 180
    },
    "id": "RBLgOCXBo4pj",
    "outputId": "882ddeaa-325b-43ca-b388-ac88a4c1cd39"
   },
   "outputs": [
    {
     "name": "stdout",
     "output_type": "stream",
     "text": [
      "\"¡Qué i\n"
     ]
    }
   ],
   "source": [
    "f = open(\"/content/drive/MyDrive/Inteligencia_Artificial/Python/txt_csv/first_read.txt\") \n",
    "print(f.read(7))\n",
    "f.close()"
   ]
  },
  {
   "cell_type": "markdown",
   "metadata": {
    "id": "Xnys_msjrrrn"
   },
   "source": [
    "### Leyendo un archivo línea a línea\n",
    "\n",
    "El método `.readline()` hace que el archivo `f` sea leido línea a línea. \n",
    "\n",
    "* Si solamente llamamos una vez al método `.readline()` leeremos únicamente la primera línea del fichero.\n",
    "* Si llamamos dos veces al método, leeremos las dos primeras líneas del fichero.\n",
    "* Y así sucesivamente.\n",
    "\n",
    "En nuestro caso solo tenemos una línea, de modo que nos sirve una llamada al método `.readline()` para leer todo el fichero. Sin embargo, podemos probar con un archivo con más de una línea como el `first_read_multiline` que hemos creado para esta clase.\n"
   ]
  },
  {
   "cell_type": "code",
   "execution_count": 6,
   "metadata": {
    "colab": {
     "base_uri": "https://localhost:8080/"
    },
    "executionInfo": {
     "elapsed": 818,
     "status": "ok",
     "timestamp": 1616437358495,
     "user": {
      "displayName": "Javier Rojas",
      "photoUrl": "",
      "userId": "16127771820052989754"
     },
     "user_tz": 180
    },
    "id": "R6DQWAIMrJfb",
    "outputId": "f0cc9dd8-1633-41dc-8f81-d96747e07f1e"
   },
   "outputs": [
    {
     "name": "stdout",
     "output_type": "stream",
     "text": [
      "\"¡Qué ilusión!\n",
      "\n",
      "Vamos a cargar por primera vez un archivo txt con Python\n",
      "\n",
      "¡Y encima contiene múltiples líneas! =D\"\n"
     ]
    }
   ],
   "source": [
    "with open(\"/content/drive/MyDrive/Inteligencia_Artificial/Python/txt_csv/first_read_multiline.txt\") as f:\n",
    "  print(f.readline())\n",
    "  print(f.readline())\n",
    "  print(f.readline())"
   ]
  },
  {
   "cell_type": "markdown",
   "metadata": {
    "id": "Jsc7y-gosGs1"
   },
   "source": [
    "## Escribiendo un archivo `txt`\n",
    "\n",
    "Podemos crear y escribir un archivo `txt` desde este mismo notebook. \n",
    "\n",
    "Para ello, volveremos a usar la función `open()`, pero esta vez con un parámetro adicional: `mode = \"w\"`. Este nuevo parámetro nos permitirá acceder al archivo en modo escritura, mientras que si no indicásemos nada, por defecto accederíamos en modo lectura.\n",
    "\n",
    "Para escribir en el fichero, tendremos que usar el método `.write()` e indicarle el string que queremos plasmar en nuestro `txt`.\n",
    "\n",
    "Además, para crear un nuevo archivo `txt`, a la hora de introducir el path (que será el mismo que el del archivo `first_read.txt`), como nombre del archivo indicaremos `first_write.txt`."
   ]
  },
  {
   "cell_type": "code",
   "execution_count": 7,
   "metadata": {
    "executionInfo": {
     "elapsed": 1015,
     "status": "ok",
     "timestamp": 1616437474812,
     "user": {
      "displayName": "Javier Rojas",
      "photoUrl": "",
      "userId": "16127771820052989754"
     },
     "user_tz": 180
    },
    "id": "cJLnAOpur3DJ"
   },
   "outputs": [],
   "source": [
    "f = open(\"/content/drive/MyDrive/Inteligencia_Artificial/Python/txt_csv/first_write.txt\", mode = \"w\")\n",
    "f.write(\"Este es el primer archivo txt que escribimos\\ny lo estamos haciendo desde el notebook de Google Colab!\")\n",
    "f.close()"
   ]
  },
  {
   "cell_type": "markdown",
   "metadata": {
    "id": "a6vb53GMziFo"
   },
   "source": [
    "**¡Cuidado!** El archivo que creemos no debe existir. En caso de existir un archivo con el mismo nombre, lo estaríamos rescribiendo."
   ]
  },
  {
   "cell_type": "markdown",
   "metadata": {
    "id": "yOpnI4bXtrkX"
   },
   "source": [
    "Comprobamos que se ha guardado el nuevo archivo `txt` llamado `first_write` en nuestra carpeta datasets. \n",
    "\n",
    "Una vez comprobada la existencia de este archivo `txt`, podemos leerlo desde este notebook tal cuál hemos hecho en el apartado anterior"
   ]
  },
  {
   "cell_type": "code",
   "execution_count": 8,
   "metadata": {
    "colab": {
     "base_uri": "https://localhost:8080/"
    },
    "executionInfo": {
     "elapsed": 776,
     "status": "ok",
     "timestamp": 1616437506284,
     "user": {
      "displayName": "Javier Rojas",
      "photoUrl": "",
      "userId": "16127771820052989754"
     },
     "user_tz": 180
    },
    "id": "236zWdeovFin",
    "outputId": "434fa30d-59b9-4839-cdbf-0edd3b703589"
   },
   "outputs": [
    {
     "name": "stdout",
     "output_type": "stream",
     "text": [
      "Este es el primer archivo txt que escribimos\n",
      "y lo estamos haciendo desde el notebook de Google Colab!\n"
     ]
    }
   ],
   "source": [
    "# Con el método .read()\n",
    "with open(\"/content/drive/MyDrive/Inteligencia_Artificial/Python/txt_csv/first_write.txt\") as f:\n",
    "  print(f.read())"
   ]
  },
  {
   "cell_type": "code",
   "execution_count": 10,
   "metadata": {
    "colab": {
     "base_uri": "https://localhost:8080/"
    },
    "executionInfo": {
     "elapsed": 827,
     "status": "ok",
     "timestamp": 1616437522631,
     "user": {
      "displayName": "Javier Rojas",
      "photoUrl": "",
      "userId": "16127771820052989754"
     },
     "user_tz": 180
    },
    "id": "14t8yagPtqmG",
    "outputId": "1bc8e7f6-6393-41ba-e60e-bf25a8e46853"
   },
   "outputs": [
    {
     "name": "stdout",
     "output_type": "stream",
     "text": [
      "Este es el primer archivo txt que escribimos\n",
      "\n",
      "y lo estamos haciendo desde el notebook de Google Colab!\n"
     ]
    }
   ],
   "source": [
    "# Con el método .readline()\n",
    "with open(\"/content/drive/MyDrive/Inteligencia_Artificial/Python/txt_csv/first_write.txt\") as f:\n",
    "  print(f.readline())\n",
    "  print(f.readline())"
   ]
  },
  {
   "cell_type": "markdown",
   "metadata": {
    "id": "xEOA6W7QwKKo"
   },
   "source": [
    "Al haber más de una línea, también podemos leer todas ellas con un bucle:"
   ]
  },
  {
   "cell_type": "code",
   "execution_count": 11,
   "metadata": {
    "colab": {
     "base_uri": "https://localhost:8080/"
    },
    "executionInfo": {
     "elapsed": 736,
     "status": "ok",
     "timestamp": 1616437537214,
     "user": {
      "displayName": "Javier Rojas",
      "photoUrl": "",
      "userId": "16127771820052989754"
     },
     "user_tz": 180
    },
    "id": "CHPkqkmqwNej",
    "outputId": "60204679-b49c-47a5-c8d9-269723b894e4"
   },
   "outputs": [
    {
     "name": "stdout",
     "output_type": "stream",
     "text": [
      "Este es el primer archivo txt que escribimos\n",
      "\n",
      "y lo estamos haciendo desde el notebook de Google Colab!\n"
     ]
    }
   ],
   "source": [
    "with open(\"/content/drive/MyDrive/Inteligencia_Artificial/Python/txt_csv/first_write.txt\") as f:\n",
    "  for line in f:\n",
    "    print(line)"
   ]
  },
  {
   "cell_type": "markdown",
   "metadata": {
    "id": "Bon87AVIzJiT"
   },
   "source": [
    "### Creando un `txt` vacío\n",
    "\n",
    "Si queremos crear un `txt` vacío, indicamos `mode = \"x\"`.\n",
    "\n",
    "En este caso vamos a crear un `txt` vacío llamado `first_empty`"
   ]
  },
  {
   "cell_type": "code",
   "execution_count": 12,
   "metadata": {
    "executionInfo": {
     "elapsed": 708,
     "status": "ok",
     "timestamp": 1616437564388,
     "user": {
      "displayName": "Javier Rojas",
      "photoUrl": "",
      "userId": "16127771820052989754"
     },
     "user_tz": 180
    },
    "id": "6ABkigENzRZE"
   },
   "outputs": [],
   "source": [
    "f = open(\"/content/drive/MyDrive/Inteligencia_Artificial/Python/txt_csv/first_empty.txt\", mode = \"x\")\n",
    "f.close()"
   ]
  },
  {
   "cell_type": "markdown",
   "metadata": {
    "id": "m0_Eg1Pfz56c"
   },
   "source": [
    "**¡Cuidado!** El archivo que creemos no debe existir. En caso de existir un archivo con el mismo nombre, nos saltaría error indicando que el archivo en cuestión ya existe."
   ]
  },
  {
   "cell_type": "markdown",
   "metadata": {
    "id": "ctH8rjZ1we5B"
   },
   "source": [
    "## Sobrescribiendo un archivo `txt` existente\n",
    "\n",
    "Al igual que podemos crear y escribir un archivo `txt` desde 0, podemos modificar un archivo `txt` ya existente.\n",
    "\n",
    "En este caso, el parámetro `mode` debe ser igualado a `\"a\"`.\n",
    "\n",
    "Vamos entonces a modificar el archivo `first_write` y vamos a añadirle al final la siguiente frase:\n",
    "\n",
    "\"\\nY esta última línea se ha añadido posteriormente.\"\n",
    "\n",
    "**Observación.** Añadimos el comando `\\n` al principio de la frase para que ésta se considere una nueva frase tras un salto de línea."
   ]
  },
  {
   "cell_type": "code",
   "execution_count": 13,
   "metadata": {
    "executionInfo": {
     "elapsed": 738,
     "status": "ok",
     "timestamp": 1616437617822,
     "user": {
      "displayName": "Javier Rojas",
      "photoUrl": "",
      "userId": "16127771820052989754"
     },
     "user_tz": 180
    },
    "id": "tHgcugydwpCZ"
   },
   "outputs": [],
   "source": [
    "f = open(\"/content/drive/MyDrive/Inteligencia_Artificial/Python/txt_csv/first_write.txt\", mode = \"a\")\n",
    "f.write(\"\\nY esta última línea se ha añadido posteriormente.\")\n",
    "f.close()"
   ]
  },
  {
   "cell_type": "markdown",
   "metadata": {
    "id": "OYpglQ9fxpaJ"
   },
   "source": [
    "**¡Cuidado!** Cada vez que ejecutéis la celda anterior se añadirá el string indicado. Por tanto, no la ejecutéis más de una vez u os encontraréis con la frase en cuestión repetida múltiples veces!"
   ]
  },
  {
   "cell_type": "code",
   "execution_count": 14,
   "metadata": {
    "colab": {
     "base_uri": "https://localhost:8080/"
    },
    "executionInfo": {
     "elapsed": 757,
     "status": "ok",
     "timestamp": 1616437639129,
     "user": {
      "displayName": "Javier Rojas",
      "photoUrl": "",
      "userId": "16127771820052989754"
     },
     "user_tz": 180
    },
    "id": "_4rWBWyGxN8h",
    "outputId": "cf78d6c3-5139-4e12-b771-846bc0371f15"
   },
   "outputs": [
    {
     "name": "stdout",
     "output_type": "stream",
     "text": [
      "Este es el primer archivo txt que escribimos\n",
      "\n",
      "y lo estamos haciendo desde el notebook de Google Colab!\n",
      "\n",
      "Y esta última línea se ha añadido posteriormente.\n"
     ]
    }
   ],
   "source": [
    "with open(\"/content/drive/MyDrive/Inteligencia_Artificial/Python/txt_csv/first_write.txt\") as f:\n",
    "  for line in f:\n",
    "    print(line)"
   ]
  },
  {
   "cell_type": "markdown",
   "metadata": {
    "id": "pu4-EH3Kx-3F"
   },
   "source": [
    "**¡Cuidado!** Si en vez de indicar `mode = \"a\"` indicáis `mode = \"w\"` eliminaréis el contenido del fichero y lo sobrescribiréis por completo por el string que indiquéis al método `.write()`"
   ]
  },
  {
   "cell_type": "code",
   "execution_count": 16,
   "metadata": {
    "executionInfo": {
     "elapsed": 713,
     "status": "ok",
     "timestamp": 1616437664128,
     "user": {
      "displayName": "Javier Rojas",
      "photoUrl": "",
      "userId": "16127771820052989754"
     },
     "user_tz": 180
    },
    "id": "5d1LXm_lx95n"
   },
   "outputs": [],
   "source": [
    "f = open(\"/content/drive/MyDrive/Inteligencia_Artificial/Python/txt_csv/first_write.txt\", mode = \"w\")\n",
    "f.write(\"Ups! Todo lo anterior ha sido borrado!!!\\n\")\n",
    "f.write(\"Hay que ir con cuidado cuando queremos editar un archivo txt...\\n\")\n",
    "f.write(\"Hay que prestar mucha atención al método con el que accedemos al fichero!\")\n",
    "f.close()"
   ]
  },
  {
   "cell_type": "code",
   "execution_count": 18,
   "metadata": {
    "colab": {
     "base_uri": "https://localhost:8080/"
    },
    "executionInfo": {
     "elapsed": 724,
     "status": "ok",
     "timestamp": 1616437679653,
     "user": {
      "displayName": "Javier Rojas",
      "photoUrl": "",
      "userId": "16127771820052989754"
     },
     "user_tz": 180
    },
    "id": "jYky7eYQxQfY",
    "outputId": "b852aed6-8e94-4443-d3a6-7de7b8a2c157"
   },
   "outputs": [
    {
     "name": "stdout",
     "output_type": "stream",
     "text": [
      "Ups! Todo lo anterior ha sido borrado!!!\n",
      "\n",
      "Hay que ir con cuidado cuando queremos editar un archivo txt...\n",
      "\n",
      "Hay que prestar mucha atención al método con el que accedemos al fichero!\n"
     ]
    }
   ],
   "source": [
    "with open(\"/content/drive/MyDrive/Inteligencia_Artificial/Python/txt_csv/first_write.txt\") as f:\n",
    "  for line in f:\n",
    "    print(line)"
   ]
  },
  {
   "cell_type": "markdown",
   "metadata": {
    "id": "jmkn_hic01rq"
   },
   "source": [
    "## Eliminando archivos\n",
    "\n",
    "En este caso vamos a tener que importar el módulo `os`"
   ]
  },
  {
   "cell_type": "code",
   "execution_count": 3,
   "metadata": {
    "executionInfo": {
     "elapsed": 82907,
     "status": "ok",
     "timestamp": 1616443889446,
     "user": {
      "displayName": "Javier Rojas",
      "photoUrl": "",
      "userId": "16127771820052989754"
     },
     "user_tz": 180
    },
    "id": "V2UwpkF4yXK1"
   },
   "outputs": [],
   "source": [
    "import os"
   ]
  },
  {
   "cell_type": "markdown",
   "metadata": {
    "id": "ousR2pWV08Yj"
   },
   "source": [
    "Para eliminar un archivo usaremos el método `.remove()` al que por parámetro indicaremos el path de dicho archivo."
   ]
  },
  {
   "cell_type": "code",
   "execution_count": null,
   "metadata": {
    "id": "lmWHNqcN1E_V"
   },
   "outputs": [],
   "source": [
    "os.remove(\"/content/drive/MyDrive/Inteligencia_Artificial/Python/txt_csv/first_empty.txt\")"
   ]
  },
  {
   "cell_type": "markdown",
   "metadata": {
    "id": "HAkSYkwz1SLi"
   },
   "source": [
    "Podemos comprobar en la carpeta datasets que efectivamente ha dejado de existir el archivo `first_empty`.\n",
    "\n",
    "Para evitar errores, antes de proceder a la eliminación de un archivo, podemos comprobar su existencia con el método `.path.exists()`, al que por parámetro le indicamos el path del archivo en cuestión.\n",
    "\n",
    "Para realizar este ejemplo, vamos a volver a crear el `txt` `first_empty`. Luego comprobaremos su existencia y, de existir, lo eliminaremos. De no existir, lo indicaremos por pantalla."
   ]
  },
  {
   "cell_type": "code",
   "execution_count": 22,
   "metadata": {
    "executionInfo": {
     "elapsed": 816,
     "status": "ok",
     "timestamp": 1616437781857,
     "user": {
      "displayName": "Javier Rojas",
      "photoUrl": "",
      "userId": "16127771820052989754"
     },
     "user_tz": 180
    },
    "id": "tDoRyjP_1MKH"
   },
   "outputs": [],
   "source": [
    "path = \"/content/drive/MyDrive/Inteligencia_Artificial/Python/txt_csv/first_empty.txt\"\n",
    "f = open(path, mode = \"x\")\n",
    "f.close()"
   ]
  },
  {
   "cell_type": "code",
   "execution_count": 24,
   "metadata": {
    "colab": {
     "base_uri": "https://localhost:8080/"
    },
    "executionInfo": {
     "elapsed": 805,
     "status": "ok",
     "timestamp": 1616437804955,
     "user": {
      "displayName": "Javier Rojas",
      "photoUrl": "",
      "userId": "16127771820052989754"
     },
     "user_tz": 180
    },
    "id": "BVxKYJzH1w54",
    "outputId": "199e88f9-939d-44d9-8f0a-e3c63d6d183f"
   },
   "outputs": [
    {
     "name": "stdout",
     "output_type": "stream",
     "text": [
      "El archivo que se quiere eliminar no existe\n"
     ]
    }
   ],
   "source": [
    "if os.path.exists(path):\n",
    "  os.remove(path)\n",
    "else:\n",
    "  print(\"El archivo que se quiere eliminar no existe\")"
   ]
  },
  {
   "cell_type": "markdown",
   "metadata": {
    "id": "ZPT41iyT1_2s"
   },
   "source": [
    "Si volvemos a ejecutar la celda anterior, puesto que el archivo `first_empty` se habrá eliminado, obtendremos el mensaje `\"El archivo que se quiere eliminar no existe\"`"
   ]
  },
  {
   "cell_type": "code",
   "execution_count": 25,
   "metadata": {
    "colab": {
     "base_uri": "https://localhost:8080/"
    },
    "executionInfo": {
     "elapsed": 727,
     "status": "ok",
     "timestamp": 1616437811654,
     "user": {
      "displayName": "Javier Rojas",
      "photoUrl": "",
      "userId": "16127771820052989754"
     },
     "user_tz": 180
    },
    "id": "YRWn4tCV1-Z6",
    "outputId": "5f4114fb-b384-4f63-ae64-1f3793ea1610"
   },
   "outputs": [
    {
     "name": "stdout",
     "output_type": "stream",
     "text": [
      "El archivo que se quiere eliminar no existe\n"
     ]
    }
   ],
   "source": [
    "if os.path.exists(path):\n",
    "  os.remove(path)\n",
    "else:\n",
    "  print(\"El archivo que se quiere eliminar no existe\")"
   ]
  },
  {
   "cell_type": "markdown",
   "metadata": {
    "id": "J7oPjjyA2QBa"
   },
   "source": [
    "### Eliminando carpetas\n",
    "\n",
    "Si se deseara eliminar toda una carpeta, esto sería posible con el método `.rmdir()`.\n",
    "\n",
    "Para ver su funcionamiento, vamos a crear una carpeta dentro de la carpeta datasets. A esta nueva carpeta la llamaremos `carpeta_temporal` y estará vacía.\n",
    "\n",
    "**Observación.** Este métodosolo nos permite eliminar carpetas vacías."
   ]
  },
  {
   "cell_type": "code",
   "execution_count": 28,
   "metadata": {
    "executionInfo": {
     "elapsed": 829,
     "status": "ok",
     "timestamp": 1616437884958,
     "user": {
      "displayName": "Javier Rojas",
      "photoUrl": "",
      "userId": "16127771820052989754"
     },
     "user_tz": 180
    },
    "id": "FaCEggUn2P3S"
   },
   "outputs": [],
   "source": [
    "path = \"/content/drive/MyDrive/Inteligencia_Artificial/Python/txt_csv/carpeta_temporal\"\n",
    "os.rmdir(path)"
   ]
  },
  {
   "cell_type": "markdown",
   "metadata": {
    "id": "GzLM_vnm2_eQ"
   },
   "source": [
    "Navegamos hasta la carpeta datasets de nuestro Google Drive y comprobamos que efectivamente, la carpeta vacía que acabábamos de crear, `carpeta_temporal`, ha sido eliminada."
   ]
  },
  {
   "cell_type": "markdown",
   "metadata": {
    "id": "WAolyfJ5B9vh"
   },
   "source": [
    "## Leyendo `csv` con `open()`"
   ]
  },
  {
   "cell_type": "markdown",
   "metadata": {
    "id": "K7bIwlR9DZpw"
   },
   "source": [
    "Además de usar la función `open()`, vamos a necesitar algunos métodos del módulo `csv`."
   ]
  },
  {
   "cell_type": "code",
   "execution_count": 1,
   "metadata": {
    "executionInfo": {
     "elapsed": 2345,
     "status": "ok",
     "timestamp": 1616443799758,
     "user": {
      "displayName": "Javier Rojas",
      "photoUrl": "",
      "userId": "16127771820052989754"
     },
     "user_tz": 180
    },
    "id": "fLY_tAn728p-"
   },
   "outputs": [],
   "source": [
    "import csv"
   ]
  },
  {
   "cell_type": "markdown",
   "metadata": {
    "id": "O0RQXJa-Diqz"
   },
   "source": [
    "Empezaremos mostrando como leer un `csv` haciendo uso del método `.reader()` del módulo `csv`.\n",
    "\n",
    "En este caso vamos a trabajar con el archivo `csv_example.csv`. Si abrimos el archivo, veremos que todos los valores están separados por comas y cada observación se encuentra en una línea diferente.\n",
    "\n",
    "Para leerlo, ejecutaremos el siguiente chunk de código:"
   ]
  },
  {
   "cell_type": "code",
   "execution_count": 30,
   "metadata": {
    "colab": {
     "base_uri": "https://localhost:8080/"
    },
    "executionInfo": {
     "elapsed": 1082,
     "status": "ok",
     "timestamp": 1616437945553,
     "user": {
      "displayName": "Javier Rojas",
      "photoUrl": "",
      "userId": "16127771820052989754"
     },
     "user_tz": 180
    },
    "id": "4iuaRGD-DVDC",
    "outputId": "df62b1d2-18c5-4ba9-b1ce-6724a9bed55d"
   },
   "outputs": [
    {
     "name": "stdout",
     "output_type": "stream",
     "text": [
      "['id', 'Name', 'City', 'Age']\n",
      "['1234', 'Arturo', 'Madrid', '22']\n",
      "['2345', 'Beatriz', 'Barcelona', '25']\n",
      "['3456', 'Carlos', 'Sevilla', '18']\n",
      "['4567', 'Dolores', 'Cuenca', '34']\n"
     ]
    }
   ],
   "source": [
    "with open(\"/content/drive/MyDrive/Inteligencia_Artificial/Python/txt_csv/csv_example.csv\", \"r\") as f:\n",
    "    reader = csv.reader(f)\n",
    "    for row in reader:\n",
    "        print(row)"
   ]
  },
  {
   "cell_type": "markdown",
   "metadata": {
    "id": "nEbsKHyBGpx_"
   },
   "source": [
    "Con la función `open()` hemos accedido al archivo, al cuál hemos identificado por `f`. A continuación, hemos usado el método `.reader()` para leer el archivo `f`. Dicho método nos ha devuelto el iterable `reader`, del cuál hemos mostrado todas sus filas iterando con un bucle `for`. "
   ]
  },
  {
   "cell_type": "markdown",
   "metadata": {
    "id": "1upIrAGoNSBS"
   },
   "source": [
    "### Cambiando el separador\n",
    "\n",
    "Por defecto, los archivos `csv` tienen como delimitador la coma `,`. No obstante, algunos archivos `csv` usan otros delimitadores. Las alternativas más populares a la coma suelen ser `|` o `\\t`.\n",
    "\n",
    "Observemos el archivo `csv_delimiter_example.csv`, donde esta vez sus elementos están separados por tabuladores, `\\t`.\n",
    "\n",
    "El método `.reader()` nos permite configurar dicho separador con el parámetro `delimiter`."
   ]
  },
  {
   "cell_type": "code",
   "execution_count": 31,
   "metadata": {
    "colab": {
     "base_uri": "https://localhost:8080/"
    },
    "executionInfo": {
     "elapsed": 1224,
     "status": "ok",
     "timestamp": 1616437989967,
     "user": {
      "displayName": "Javier Rojas",
      "photoUrl": "",
      "userId": "16127771820052989754"
     },
     "user_tz": 180
    },
    "id": "-81xMYHDHBUy",
    "outputId": "4f7c5d58-af6b-4d4f-ce9c-894a20febe12"
   },
   "outputs": [
    {
     "name": "stdout",
     "output_type": "stream",
     "text": [
      "['id', 'Name', 'City', 'Age']\n",
      "['1234', 'Arturo', 'Madrid', '22']\n",
      "['2345', 'Beatriz', 'Barcelona', '25']\n",
      "['3456', 'Carlos', 'Sevilla', '18']\n",
      "['4567', 'Dolores', 'Cuenca', '34']\n"
     ]
    }
   ],
   "source": [
    "with open(\"/content/drive/MyDrive/Inteligencia_Artificial/Python/txt_csv/csv_delimiter_example.csv\", \"r\") as f:\n",
    "    reader = csv.reader(f, delimiter = \"|\")\n",
    "    for row in reader:\n",
    "        print(row)"
   ]
  },
  {
   "cell_type": "markdown",
   "metadata": {
    "id": "HLQbsecfgbk-"
   },
   "source": [
    "### Eliminando espacios adicionales\n",
    "\n",
    "A veces puede ocurrir que algunos `csv` tengan un espacio en blanco tras el delimitador, cosa que se ve reflejado al leer los datos.\n",
    "\n",
    "Para eliminar estos espacios en blanco adicionales, el método `.reader()` trae el parámetro `skipinitialspace`. Si lo igualamos a `True`, los espacios adicionales desaparecerán.\n",
    "\n",
    "Observemos que el archivo `csv_spaces_example.csv` tiene espacios en blanco adicionales tras el separador, que es la coma. Veamos la diferencia entre igualar el parámetro `skipinitialspace` a `True` o a `False`."
   ]
  },
  {
   "cell_type": "code",
   "execution_count": 5,
   "metadata": {
    "colab": {
     "base_uri": "https://localhost:8080/"
    },
    "executionInfo": {
     "elapsed": 2271,
     "status": "ok",
     "timestamp": 1616443912255,
     "user": {
      "displayName": "Javier Rojas",
      "photoUrl": "",
      "userId": "16127771820052989754"
     },
     "user_tz": 180
    },
    "id": "T5yOgbYqgyjq",
    "outputId": "09ef0de5-afb6-407c-a28d-ab8ed55a2c1a"
   },
   "outputs": [
    {
     "name": "stdout",
     "output_type": "stream",
     "text": [
      "['id', ' Name', ' City', ' Age']\n",
      "['1234', ' Arturo', ' Madrid', ' 22']\n",
      "['2345', ' Beatriz', ' Barcelona', ' 25']\n",
      "['3456', ' Carlos', ' Sevilla', ' 18']\n",
      "['4567', ' Dolores', ' Cuenca', ' 34']\n"
     ]
    }
   ],
   "source": [
    "# skipinitialspace = False (valor por defecto)\n",
    "with open(\"/content/drive/MyDrive/Inteligencia_Artificial/Python/txt_csv/csv_spaces_example.csv\", \"r\") as f:\n",
    "    reader = csv.reader(f, skipinitialspace = False)\n",
    "    for row in reader:\n",
    "        print(row)"
   ]
  },
  {
   "cell_type": "markdown",
   "metadata": {
    "id": "j410VTOpGNAy"
   },
   "source": [
    "**Observación.** Salvo la primera entrada de cada fila, todas tienen un espacio inicial adicional."
   ]
  },
  {
   "cell_type": "code",
   "execution_count": 6,
   "metadata": {
    "colab": {
     "base_uri": "https://localhost:8080/"
    },
    "executionInfo": {
     "elapsed": 996,
     "status": "ok",
     "timestamp": 1616443929611,
     "user": {
      "displayName": "Javier Rojas",
      "photoUrl": "",
      "userId": "16127771820052989754"
     },
     "user_tz": 180
    },
    "id": "fc4u7f2gGAAk",
    "outputId": "80c203cd-276a-4671-aad5-e2795a461b9d"
   },
   "outputs": [
    {
     "name": "stdout",
     "output_type": "stream",
     "text": [
      "['id', 'Name', 'City', 'Age']\n",
      "['1234', 'Arturo', 'Madrid', '22']\n",
      "['2345', 'Beatriz', 'Barcelona', '25']\n",
      "['3456', 'Carlos', 'Sevilla', '18']\n",
      "['4567', 'Dolores', 'Cuenca', '34']\n"
     ]
    }
   ],
   "source": [
    "# skipinitialspace = True\n",
    "with open(\"/content/drive/MyDrive/Inteligencia_Artificial/Python/txt_csv/csv_spaces_example.csv\", \"r\") as f:\n",
    "    reader = csv.reader(f, skipinitialspace = True)\n",
    "    for row in reader:\n",
    "        print(row)"
   ]
  },
  {
   "cell_type": "markdown",
   "metadata": {
    "id": "rWZoFO3rg_vY"
   },
   "source": [
    "### Comillas en las entradas\n",
    "\n",
    "Algunos archivos `csv` puede que tengan entradas entre comillas. Si no indicamos nada, por defecto aparecerán las comillas en las entradas tras haber leído el fichero.\n",
    "\n",
    "Si en cambio queremos deshacernos de ellas, disponemos del parámetro `quoting`, que admite diferentes valores:\n",
    "\n",
    "* `csv.QUOTE_ALL`: indica al objeto `reader` que todos los valores en el archivo `csv` están entre comillas\n",
    "* `csv.QUOTE_MINIMAL`: indica al objeto `reader` que los valores en el archivo `csv` que están entre comillas son entradas que contienen caracteres como el delimitador, comillas o cualquier caracter de terminación de línea\n",
    "* `csv.QUOTE_NONNUMERIC`: indica al objeto `reader` que los valores en el archivo `csv` que están entre comillas son entradas que contienen entradas no-numéricas\n",
    "* `csv.QUOTE_NONE`: indica al objeto `reader` que ninguno los valores en el archivo `csv` están entre comillas\n",
    "\n",
    "Observemos el archivo `csv_quotation_example.csv`, donde las observaciones entre comillas son aquellas que no tienen valores numéricos. En este caso, nos convendría usar la opción `csv.QUOTE_NONNUMERIC`"
   ]
  },
  {
   "cell_type": "code",
   "execution_count": 8,
   "metadata": {
    "colab": {
     "base_uri": "https://localhost:8080/"
    },
    "executionInfo": {
     "elapsed": 980,
     "status": "ok",
     "timestamp": 1616444076367,
     "user": {
      "displayName": "Javier Rojas",
      "photoUrl": "",
      "userId": "16127771820052989754"
     },
     "user_tz": 180
    },
    "id": "bewS5DP6BTPd",
    "outputId": "f4a312c6-4b40-4754-96b5-4c9a3004ae26"
   },
   "outputs": [
    {
     "name": "stdout",
     "output_type": "stream",
     "text": [
      "['id', 'Name', 'City', 'Age']\n",
      "[1234.0, 'Arturo', 'Madrid', 22.0]\n",
      "[2345.0, 'Beatriz', 'Barcelona', 25.0]\n",
      "[3456.0, 'Carlos', 'Sevilla', 18.0]\n",
      "[4567.0, 'Dolores', 'Cuenca', 34.0]\n"
     ]
    }
   ],
   "source": [
    "with open(\"/content/drive/MyDrive/Inteligencia_Artificial/Python/txt_csv/csv_quotation_example.csv\", \"r\") as f:\n",
    "    reader = csv.reader(f, quoting = csv.QUOTE_NONNUMERIC)\n",
    "    for row in reader:\n",
    "        print(row)"
   ]
  },
  {
   "cell_type": "markdown",
   "metadata": {
    "id": "GJtlP5ntHO5N"
   },
   "source": [
    "**Observación.** Las entradas numéricas han dejado de ser leídas como strings y han pasado a ser consideradas entradas de tipo `float`.\n",
    "\n",
    "Si en cambio hubiésemos usado la opción `csv.QUOTATE_ALL`, no hubiésemos obtenido ningún error, pero las entradas numéricas habrían sido tratadas como `string`."
   ]
  },
  {
   "cell_type": "code",
   "execution_count": 9,
   "metadata": {
    "colab": {
     "base_uri": "https://localhost:8080/"
    },
    "executionInfo": {
     "elapsed": 1308,
     "status": "ok",
     "timestamp": 1616444098587,
     "user": {
      "displayName": "Javier Rojas",
      "photoUrl": "",
      "userId": "16127771820052989754"
     },
     "user_tz": 180
    },
    "id": "yBhgfqv0HHdZ",
    "outputId": "2e46ceff-f83b-4a57-9c87-b89a14eac3d9"
   },
   "outputs": [
    {
     "name": "stdout",
     "output_type": "stream",
     "text": [
      "['id', 'Name', 'City', 'Age']\n",
      "['1234', 'Arturo', 'Madrid', '22']\n",
      "['2345', 'Beatriz', 'Barcelona', '25']\n",
      "['3456', 'Carlos', 'Sevilla', '18']\n",
      "['4567', 'Dolores', 'Cuenca', '34']\n"
     ]
    }
   ],
   "source": [
    "with open(\"/content/drive/MyDrive/Inteligencia_Artificial/Python/txt_csv/csv_quotation_example.csv\", \"r\") as f:\n",
    "    reader = csv.reader(f, quoting = csv.QUOTE_ALL)\n",
    "    for row in reader:\n",
    "        print(row)"
   ]
  },
  {
   "cell_type": "markdown",
   "metadata": {
    "id": "2_Oi8GfUHqW2"
   },
   "source": [
    "### Dialectos\n",
    "\n",
    "Hasta ahora solamente hemos usado uno de los parámetros cada vez, pero podría darse el caso de que tuviésemos un csv con un delimitador distinto a la coma, con espacios adicionales y entradas entrecomilladas a causa de contener delimitadores o finales de línea.\n",
    "\n",
    "Una opción sería indicar todos los parámetros a la función, pero existe una alternativa que nos será muy útil en caso de no estar tratando con un solo archivo `csv` sino con múltiples con formatos similares. Es el caso de los dialectos.\n",
    "\n",
    "Los dialectos ayudan a agrupar patrones de formato específicos como el delimitador, las comillas, los espacios adicionales tras los delimitadores...\n",
    "\n",
    "En caso de querer usar nuestro dialecto personalizado, `.reader()` nos ofrece el parámetros `dialect` al cual podemos pasarle dicho dialecto.\n",
    "\n",
    "Consideremos el archivo `csv_dialect_example.csv`, el cual tiene el delimitador `|`, espacios adicionales y todos sus valores no numéricos entrecomillados.\n",
    "\n",
    "En vez de indicar todos esos parámetros al método `.reader()`, vamos a crear nuestro dialecto, `my_dialect`, con el método `.register_dialect()` y se lo vamos a pasar al parámetro `dialect` de `.reader()` "
   ]
  },
  {
   "cell_type": "code",
   "execution_count": 10,
   "metadata": {
    "colab": {
     "base_uri": "https://localhost:8080/"
    },
    "executionInfo": {
     "elapsed": 1520,
     "status": "ok",
     "timestamp": 1616444175855,
     "user": {
      "displayName": "Javier Rojas",
      "photoUrl": "",
      "userId": "16127771820052989754"
     },
     "user_tz": 180
    },
    "id": "RanrowD-HmnL",
    "outputId": "4cfe1e5b-bc1a-4393-b82c-cb8c8876e58f"
   },
   "outputs": [
    {
     "name": "stdout",
     "output_type": "stream",
     "text": [
      "['id', 'Name', 'City', 'Age']\n",
      "[1234.0, 'Arturo', 'Madrid', 22.0]\n",
      "[2345.0, 'Beatriz', 'Barcelona', 25.0]\n",
      "[3456.0, 'Carlos', 'Sevilla', 18.0]\n",
      "[4567.0, 'Dolores', 'Cuenca', 34.0]\n"
     ]
    }
   ],
   "source": [
    "csv.register_dialect(\"my_dialect\",\n",
    "                     delimiter = \"|\",\n",
    "                     skipinitialspace = True,\n",
    "                     quoting = csv.QUOTE_NONNUMERIC)\n",
    "\n",
    "with open(\"/content/drive/MyDrive/Inteligencia_Artificial/Python/txt_csv/csv_dialect_example.csv\", \"r\") as f:\n",
    "    reader = csv.reader(f, dialect = \"my_dialect\")\n",
    "    for row in reader:\n",
    "        print(row)"
   ]
  },
  {
   "cell_type": "markdown",
   "metadata": {
    "id": "-ITRLGReN7LU"
   },
   "source": [
    "Al método `.register_dialect()` en primer lugar le hemos dado un nombre en formato `string` y luego hemos configurado los parámetros `delimiter`, `skipinitialspace` y `quoting`. \n",
    "\n",
    "A continuación, al método `.reader()` le hemos pasado el nombre del dialecto, `my_dialect`, al parámetro `dialect` y se ha leído el archivo correctamente.\n",
    "\n",
    "Una vez creado el dialecto personalizado, podemos usarlo tantas veces como queramos para abrir y leer archivos `csv` con el mismo formato, en este caso, que `csv_dialect_example.csv`."
   ]
  },
  {
   "cell_type": "markdown",
   "metadata": {
    "id": "Owht-USeQFEe"
   },
   "source": [
    "### Diccionarios y `csv`\n",
    "\n",
    "En este caso vamos a trabajar de nuevo con el archivo `csv_example.csv`. \n",
    "\n",
    "Para leerlo, usaremos el método `.DictReader()` del módulo `csv`, lo que nos devolverá un objeto `OrderedDict`, que es iterable."
   ]
  },
  {
   "cell_type": "code",
   "execution_count": 11,
   "metadata": {
    "colab": {
     "base_uri": "https://localhost:8080/"
    },
    "executionInfo": {
     "elapsed": 1407,
     "status": "ok",
     "timestamp": 1616444257298,
     "user": {
      "displayName": "Javier Rojas",
      "photoUrl": "",
      "userId": "16127771820052989754"
     },
     "user_tz": 180
    },
    "id": "xLdaWuOhN6zV",
    "outputId": "3b686bb6-719e-4584-b58b-8e7edfb72bc6"
   },
   "outputs": [
    {
     "name": "stdout",
     "output_type": "stream",
     "text": [
      "OrderedDict([('id', '1234'), ('Name', 'Arturo'), ('City', 'Madrid'), ('Age', '22')])\n",
      "OrderedDict([('id', '2345'), ('Name', 'Beatriz'), ('City', 'Barcelona'), ('Age', '25')])\n",
      "OrderedDict([('id', '3456'), ('Name', 'Carlos'), ('City', 'Sevilla'), ('Age', '18')])\n",
      "OrderedDict([('id', '4567'), ('Name', 'Dolores'), ('City', 'Cuenca'), ('Age', '34')])\n"
     ]
    }
   ],
   "source": [
    "with open(\"/content/drive/MyDrive/Inteligencia_Artificial/Python/txt_csv/csv_example.csv\", \"r\") as f:\n",
    "    reader = csv.DictReader(f)\n",
    "    for row in reader:\n",
    "        print(row)"
   ]
  },
  {
   "cell_type": "markdown",
   "metadata": {
    "id": "-s9I1zbXSmp3"
   },
   "source": [
    "**Observación.** Podríamos usar la función `dict()` dentro del `print()` para mostrar los objetos `OrderedDict` como diccionarios."
   ]
  },
  {
   "cell_type": "code",
   "execution_count": 12,
   "metadata": {
    "colab": {
     "base_uri": "https://localhost:8080/"
    },
    "executionInfo": {
     "elapsed": 978,
     "status": "ok",
     "timestamp": 1616444272884,
     "user": {
      "displayName": "Javier Rojas",
      "photoUrl": "",
      "userId": "16127771820052989754"
     },
     "user_tz": 180
    },
    "id": "a81P4VF8SmJd",
    "outputId": "10674744-3afc-4961-d983-8254d3cf0092"
   },
   "outputs": [
    {
     "name": "stdout",
     "output_type": "stream",
     "text": [
      "{'id': '1234', 'Name': 'Arturo', 'City': 'Madrid', 'Age': '22'}\n",
      "{'id': '2345', 'Name': 'Beatriz', 'City': 'Barcelona', 'Age': '25'}\n",
      "{'id': '3456', 'Name': 'Carlos', 'City': 'Sevilla', 'Age': '18'}\n",
      "{'id': '4567', 'Name': 'Dolores', 'City': 'Cuenca', 'Age': '34'}\n"
     ]
    }
   ],
   "source": [
    "with open(\"/content/drive/MyDrive/Inteligencia_Artificial/Python/txt_csv/csv_example.csv\", \"r\") as f:\n",
    "    reader = csv.DictReader(f)\n",
    "    for row in reader:\n",
    "        print(dict(row))"
   ]
  },
  {
   "cell_type": "markdown",
   "metadata": {
    "id": "pojdRtgeS3W5"
   },
   "source": [
    "**Observación.** Si se usa una versión de `Python` 3.8 o superior, podría ser que no fuera necesario usar la función `dict()` pues el resultado de `.DictReader()` ya sería un diccionario."
   ]
  },
  {
   "cell_type": "markdown",
   "metadata": {
    "id": "nxCMVMr5Tu2n"
   },
   "source": [
    "## Escribiendo `csv`\n",
    "\n",
    "Para crear y escribir un `csv` usamos la función `open()` junto al método `csv.writer()`:"
   ]
  },
  {
   "cell_type": "code",
   "execution_count": 13,
   "metadata": {
    "executionInfo": {
     "elapsed": 999,
     "status": "ok",
     "timestamp": 1616444320675,
     "user": {
      "displayName": "Javier Rojas",
      "photoUrl": "",
      "userId": "16127771820052989754"
     },
     "user_tz": 180
    },
    "id": "W1itYXPiT9Ya"
   },
   "outputs": [],
   "source": [
    "data = [[\"id\", \"Name\", \"City\", \"Age\"], \n",
    "        [1234, \"Arturo\", \"Madrid\", 22], \n",
    "        [2345, \"Beatriz\", \"Barcelona\", 25],\n",
    "        [3456, \"Carlos\", \"Sevilla\", 18], \n",
    "        [4567, \"Dolores\", \"Cuenca\", 34]]\n",
    "\n",
    "with open(\"/content/drive/MyDrive/Inteligencia_Artificial/Python/txt_csv/csv_write.csv\", \"w\") as f:\n",
    "  writer = csv.writer(f)\n",
    "  for row in data:\n",
    "    writer.writerow(row)\n"
   ]
  },
  {
   "cell_type": "markdown",
   "metadata": {
    "id": "ZOZcgLyJU6Ie"
   },
   "source": [
    "Si ahora vamos a la carpeta datasets, observaremos que ha aparecido un nuevo archivo llamado `csv_write.csv` el cual contiene como valores las entradas de la lista `data`, donde cada sublista corresponde a una fila del `csv` gracias al bucle `for` y al método `.writerow()`.\n",
    "\n",
    "Podríamos haber obtenido exactamente el mismo resultado sin haber usado un bucle, lo que para ello tendríamos que haber hecho uso del método `.writerows()`."
   ]
  },
  {
   "cell_type": "code",
   "execution_count": 14,
   "metadata": {
    "executionInfo": {
     "elapsed": 1417,
     "status": "ok",
     "timestamp": 1616444373649,
     "user": {
      "displayName": "Javier Rojas",
      "photoUrl": "",
      "userId": "16127771820052989754"
     },
     "user_tz": 180
    },
    "id": "8cYxIh48Ux8n"
   },
   "outputs": [],
   "source": [
    "with open(\"/content/drive/MyDrive/Inteligencia_Artificial/Python/txt_csv/csv_write_writerows.csv\", \"w\") as f:\n",
    "  writer = csv.writer(f)\n",
    "  writer.writerows(data)"
   ]
  },
  {
   "cell_type": "markdown",
   "metadata": {
    "id": "6XN12BkKVml3"
   },
   "source": [
    "Si ahora vamos a la carpeta datasets, observaremos que ha aparecido un nuevo archivo llamado `csv_write_writerows.csv` el cual contiene como valores las entradas de la lista `data`, donde cada sublista corresponde a una fila del `csv` gracias al método `.writerows()`."
   ]
  },
  {
   "cell_type": "markdown",
   "metadata": {
    "id": "v_F0HT-KWEF5"
   },
   "source": [
    "### Diccionarios y csv\n",
    "\n",
    "También podemos escribir un `csv` a partir de un diccionario. Para ello tendremos que usar el método `.DictWriter()`."
   ]
  },
  {
   "cell_type": "code",
   "execution_count": 15,
   "metadata": {
    "executionInfo": {
     "elapsed": 1096,
     "status": "ok",
     "timestamp": 1616444449037,
     "user": {
      "displayName": "Javier Rojas",
      "photoUrl": "",
      "userId": "16127771820052989754"
     },
     "user_tz": 180
    },
    "id": "kf8Wh4e5VkoI"
   },
   "outputs": [],
   "source": [
    "data = [{\"id\": 1234, \"Name\": \"Arturo\", \"City\": \"Madrid\", \"Age\": 22},\n",
    "        {\"id\": 2345, \"Name\": \"Beatriz\", \"City\": \"Barcelona\", \"Age\": 25},\n",
    "        {\"id\": 3456, \"Name\": \"Carlos\", \"City\": \"Sevilla\", \"Age\": 18},\n",
    "        {\"id\": 4567, \"Name\": \"Dolores\", \"City\": \"Cuenca\", \"Age\": 34}]\n",
    "\n",
    "# La cabecera es la lista de las keys de cualquiera de las entradas de data\n",
    "header = list(data[0].keys())"
   ]
  },
  {
   "cell_type": "code",
   "execution_count": 16,
   "metadata": {
    "executionInfo": {
     "elapsed": 3545,
     "status": "ok",
     "timestamp": 1616444470037,
     "user": {
      "displayName": "Javier Rojas",
      "photoUrl": "",
      "userId": "16127771820052989754"
     },
     "user_tz": 180
    },
    "id": "57dv5P9EYinH"
   },
   "outputs": [],
   "source": [
    "with open(\"/content/drive/MyDrive/Inteligencia_Artificial/Python/txt_csv/csv_write_dict.csv\", \"w\") as f:\n",
    "  writer = csv.DictWriter(f, fieldnames = header)\n",
    "  \n",
    "  writer.writeheader()\n",
    "  for d in data:\n",
    "    writer.writerow(d)"
   ]
  },
  {
   "cell_type": "markdown",
   "metadata": {
    "id": "DIgGBa8AXtcP"
   },
   "source": [
    "En este caso, los datos están guardado en una lista de diccionarios llamada `data`. A continuación guardamos la cabecera en la variable `header` como una lista de los nombres de las variables.\n",
    "\n",
    "Abrimos (y creamos) el archivo `csv_write_dict.csv` y creamos el objeto `writer` con el método `.DictWriter()` al cual le pasamos la cabecera `header` mediante el parámetro `fieldnames`.\n",
    "\n",
    "Finalmente, escribimos en primer lugar la cabecera con el método `.writeheader()` y luego, con la ayuda de un bucle `for`, cada observación, correspondiente a cada uno de los diccionarios de la lista `data`, en una fila diferente con el método `.writerow()`.\n",
    "\n",
    "Podríamos haber obtenido el mismo resultado sin usar ningún bucle, pero haciendo uso del método `.writerows()`"
   ]
  },
  {
   "cell_type": "code",
   "execution_count": 17,
   "metadata": {
    "executionInfo": {
     "elapsed": 1063,
     "status": "ok",
     "timestamp": 1616444516808,
     "user": {
      "displayName": "Javier Rojas",
      "photoUrl": "",
      "userId": "16127771820052989754"
     },
     "user_tz": 180
    },
    "id": "5kZkK50pW8lM"
   },
   "outputs": [],
   "source": [
    "with open(\"/content/drive/MyDrive/Inteligencia_Artificial/Python/txt_csv/csv_write_dict_writerows.csv\", \"w\") as f:\n",
    "  writer = csv.DictWriter(f, fieldnames = header)\n",
    "  \n",
    "  writer.writeheader()\n",
    "  writer.writerows(data)"
   ]
  },
  {
   "cell_type": "markdown",
   "metadata": {
    "id": "ai7lAW71YqRJ"
   },
   "source": [
    "Observamos que efectivamente tanto el archivo \n",
    "\n",
    "1.   Elemento de la lista\n",
    "2.   Elemento de la lista\n",
    "\n",
    "`csv_write_dict.csv` como `csv_write_dict_writerows.csv` son idénticos."
   ]
  },
  {
   "cell_type": "markdown",
   "metadata": {
    "id": "dvGIE0i9myg8"
   },
   "source": [
    "# Tarea"
   ]
  },
  {
   "cell_type": "markdown",
   "metadata": {
    "id": "5ZArt7F9m1YT"
   },
   "source": [
    "##1.\n",
    "Pídele al usuario el nombre, el apellido, la edad y su color favorito. Guarda la información en un diccionario de claves name,surname,age y color.Crea y escribe un txt con 4 frases, una en cada línea. La primera debe indicar el nombre del usuario; la segunda, el apellido; la tercera, la edad; y la última, el color favorito del usuario."
   ]
  },
  {
   "cell_type": "code",
   "execution_count": 18,
   "metadata": {
    "colab": {
     "base_uri": "https://localhost:8080/"
    },
    "executionInfo": {
     "elapsed": 969,
     "status": "ok",
     "timestamp": 1616444699687,
     "user": {
      "displayName": "Javier Rojas",
      "photoUrl": "",
      "userId": "16127771820052989754"
     },
     "user_tz": 180
    },
    "id": "NYzrK4_mnDx_",
    "outputId": "b39d77f7-22d9-4ce6-a822-19fbf8a6cff8"
   },
   "outputs": [
    {
     "name": "stdout",
     "output_type": "stream",
     "text": [
      "Drive already mounted at /content/drive; to attempt to forcibly remount, call drive.mount(\"/content/drive\", force_remount=True).\n"
     ]
    }
   ],
   "source": [
    "from google.colab import drive\n",
    "drive.mount('/content/drive')\n",
    "path = \"/content/drive/MyDrive/Inteligencia_Artificial/Python/txt_csv/\""
   ]
  },
  {
   "cell_type": "code",
   "execution_count": 24,
   "metadata": {
    "colab": {
     "base_uri": "https://localhost:8080/"
    },
    "executionInfo": {
     "elapsed": 9504,
     "status": "ok",
     "timestamp": 1616445269140,
     "user": {
      "displayName": "Javier Rojas",
      "photoUrl": "",
      "userId": "16127771820052989754"
     },
     "user_tz": 180
    },
    "id": "aykeFMWZnMBH",
    "outputId": "260998c9-ef60-490f-8043-df56140a6c51"
   },
   "outputs": [
    {
     "name": "stdout",
     "output_type": "stream",
     "text": [
      "Ingrese su nombre:Javier\n",
      "Ingrese su apellido:Rojas\n",
      "Ingrese su edad:22\n",
      "Ingrese su color favorito:Verde\n"
     ]
    }
   ],
   "source": [
    "dic = {\"name\":\"\",\n",
    "       \"surname\":\"\",\n",
    "       \"age\":\"\",\n",
    "       \"color\":\"\"}\n",
    "\n",
    "dic[\"name\"] = input(\"Ingrese su nombre:\")\n",
    "dic[\"surname\"] = input(\"Ingrese su apellido:\")\n",
    "dic[\"age\"] = input(\"Ingrese su edad:\")\n",
    "dic[\"color\"] = input(\"Ingrese su color favorito:\")\n",
    "\n",
    "f = open(path+\"tarea1_1.txt\",mode=\"w\")\n",
    "for i in dic.keys():\n",
    "    f.write(dic[i]+\"\\n\")\n",
    "f.close()"
   ]
  },
  {
   "cell_type": "markdown",
   "metadata": {
    "id": "fA7xuRtCpLrk"
   },
   "source": [
    "##2.\n",
    "Lee el archivo txt creado en el ejercicio anterior para ver que se ha creado correctamente."
   ]
  },
  {
   "cell_type": "code",
   "execution_count": 26,
   "metadata": {
    "colab": {
     "base_uri": "https://localhost:8080/"
    },
    "executionInfo": {
     "elapsed": 1114,
     "status": "ok",
     "timestamp": 1616445493961,
     "user": {
      "displayName": "Javier Rojas",
      "photoUrl": "",
      "userId": "16127771820052989754"
     },
     "user_tz": 180
    },
    "id": "Sy-_cmBtpR_4",
    "outputId": "bb040afb-c729-40b7-a73d-1b9bc171db36"
   },
   "outputs": [
    {
     "name": "stdout",
     "output_type": "stream",
     "text": [
      "Javier\n",
      "\n",
      "Rojas\n",
      "\n",
      "22\n",
      "\n",
      "Verde\n",
      "\n"
     ]
    }
   ],
   "source": [
    "with open(path+\"tarea1_1.txt\") as f:\n",
    "    for line in f:\n",
    "        print(line)"
   ]
  },
  {
   "cell_type": "markdown",
   "metadata": {
    "id": "kWPBf2dHsQE7"
   },
   "source": [
    "##3.\n",
    "Crea un archivo txt vacío y llámalo ej3.txt"
   ]
  },
  {
   "cell_type": "code",
   "execution_count": 27,
   "metadata": {
    "executionInfo": {
     "elapsed": 1130,
     "status": "ok",
     "timestamp": 1616446079380,
     "user": {
      "displayName": "Javier Rojas",
      "photoUrl": "",
      "userId": "16127771820052989754"
     },
     "user_tz": 180
    },
    "id": "EWdTLEOisTMo"
   },
   "outputs": [],
   "source": [
    "f = open(path+\"eje3.txt\",mode=\"x\")\n",
    "f.close()"
   ]
  },
  {
   "cell_type": "markdown",
   "metadata": {
    "id": "P-aF2rxbsj5Q"
   },
   "source": [
    "##4.\n",
    "Elimina el archivo creado en el ejercicio 3."
   ]
  },
  {
   "cell_type": "code",
   "execution_count": 28,
   "metadata": {
    "executionInfo": {
     "elapsed": 1323,
     "status": "ok",
     "timestamp": 1616446154838,
     "user": {
      "displayName": "Javier Rojas",
      "photoUrl": "",
      "userId": "16127771820052989754"
     },
     "user_tz": 180
    },
    "id": "34wu9g93sr7y"
   },
   "outputs": [],
   "source": [
    "import os"
   ]
  },
  {
   "cell_type": "code",
   "execution_count": 29,
   "metadata": {
    "executionInfo": {
     "elapsed": 1841,
     "status": "ok",
     "timestamp": 1616446187435,
     "user": {
      "displayName": "Javier Rojas",
      "photoUrl": "",
      "userId": "16127771820052989754"
     },
     "user_tz": 180
    },
    "id": "aTjJjjbWstaa"
   },
   "outputs": [],
   "source": [
    "os.remove(path+\"eje3.txt\")"
   ]
  },
  {
   "cell_type": "markdown",
   "metadata": {
    "id": "bxn5NX3Gs5ZH"
   },
   "source": [
    "##5.\n",
    "Crea un archivotxtvacío y llámalo ej5.txt. Sobreescribelo con las siguientes líneas:\n",
    "\"x,y,Color,Shape\\n\"\n",
    "\n",
    "\"1,1,#6fb7ff,<\\n\"\n",
    "\n",
    "\"-1,1,#ffa66f,v\\n\"\n",
    "\n",
    "\"-1,-1,#ffee6f,>\\n\"\n",
    "\n",
    "\"1,-1,#db6fff,^\\n\""
   ]
  },
  {
   "cell_type": "code",
   "execution_count": 32,
   "metadata": {
    "executionInfo": {
     "elapsed": 1005,
     "status": "ok",
     "timestamp": 1616446415421,
     "user": {
      "displayName": "Javier Rojas",
      "photoUrl": "",
      "userId": "16127771820052989754"
     },
     "user_tz": 180
    },
    "id": "RSgUaMG-tD2c"
   },
   "outputs": [],
   "source": [
    "f = open(path+\"ej5.txt\",mode=\"x\")\n",
    "f.close()"
   ]
  },
  {
   "cell_type": "code",
   "execution_count": 33,
   "metadata": {
    "executionInfo": {
     "elapsed": 1089,
     "status": "ok",
     "timestamp": 1616446420615,
     "user": {
      "displayName": "Javier Rojas",
      "photoUrl": "",
      "userId": "16127771820052989754"
     },
     "user_tz": 180
    },
    "id": "0D5csWU1tuvF"
   },
   "outputs": [],
   "source": [
    "f = open(path+\"ej5.txt\",mode=\"w\")\n",
    "f.write(\"x,y,Color,Shape\\n\")\n",
    "f.write(\"1,1,#6fb7ff,<\\n\")\n",
    "f.write(\"-1,1,#ffa66f,v\\n\")\n",
    "f.write(\"-1,-1,#ffee6f,>\\n\")\n",
    "f.write(\"1,-1,#db6fff,^\\n\")\n",
    "f.close()"
   ]
  },
  {
   "cell_type": "markdown",
   "metadata": {
    "id": "PAVkTRVXtv8U"
   },
   "source": [
    "##6.\n",
    "Lee el archivo txt del ejercicio 5 como si fuera un archivo csv. Guarda las filas del objeto reader en una lista llamada df. Al final tendrás una lista con 5 listas de tamaño 4."
   ]
  },
  {
   "cell_type": "code",
   "execution_count": 34,
   "metadata": {
    "executionInfo": {
     "elapsed": 1104,
     "status": "ok",
     "timestamp": 1616446482167,
     "user": {
      "displayName": "Javier Rojas",
      "photoUrl": "",
      "userId": "16127771820052989754"
     },
     "user_tz": 180
    },
    "id": "jfSjI7X_t8oz"
   },
   "outputs": [],
   "source": [
    "import csv"
   ]
  },
  {
   "cell_type": "code",
   "execution_count": 41,
   "metadata": {
    "colab": {
     "base_uri": "https://localhost:8080/"
    },
    "executionInfo": {
     "elapsed": 1691,
     "status": "ok",
     "timestamp": 1616446819950,
     "user": {
      "displayName": "Javier Rojas",
      "photoUrl": "",
      "userId": "16127771820052989754"
     },
     "user_tz": 180
    },
    "id": "swFAvlOPt_EL",
    "outputId": "ff889587-6ac9-4355-aa7d-88000df94ca6"
   },
   "outputs": [
    {
     "name": "stdout",
     "output_type": "stream",
     "text": [
      "[['x', 'y', 'Color', 'Shape'], ['1', '1', '#6fb7ff', '<'], ['-1', '1', '#ffa66f', 'v'], ['-1', '-1', '#ffee6f', '>'], ['1', '-1', '#db6fff', '^']]\n"
     ]
    }
   ],
   "source": [
    "data = []\n",
    "with open(path+\"ej5.txt\",mode=\"r\") as f:\n",
    "    reader = csv.reader(f)\n",
    "    for r in reader:\n",
    "        data.append(r)\n",
    "print(data)"
   ]
  },
  {
   "cell_type": "markdown",
   "metadata": {
    "id": "0thKMateudkD"
   },
   "source": [
    "##7.\n",
    "Utiliza el método .read_csv() de pandas para leer el contenido del txt del ejercicio 5 y guardarlo en un dataframe llamado df."
   ]
  },
  {
   "cell_type": "code",
   "execution_count": 36,
   "metadata": {
    "executionInfo": {
     "elapsed": 1176,
     "status": "ok",
     "timestamp": 1616446652511,
     "user": {
      "displayName": "Javier Rojas",
      "photoUrl": "",
      "userId": "16127771820052989754"
     },
     "user_tz": 180
    },
    "id": "yfwEqsCluk9J"
   },
   "outputs": [],
   "source": [
    "import pandas as pd"
   ]
  },
  {
   "cell_type": "code",
   "execution_count": 39,
   "metadata": {
    "executionInfo": {
     "elapsed": 1343,
     "status": "ok",
     "timestamp": 1616446754342,
     "user": {
      "displayName": "Javier Rojas",
      "photoUrl": "",
      "userId": "16127771820052989754"
     },
     "user_tz": 180
    },
    "id": "G8MD1WaAuoY5"
   },
   "outputs": [],
   "source": [
    "df = pd.read_csv(path+\"ej5.txt\")"
   ]
  },
  {
   "cell_type": "markdown",
   "metadata": {
    "id": "m0h-X8OHvCHm"
   },
   "source": [
    "##8.\n",
    "Utiliza el dataframe df para representar los puntos cuyas coordenadas x están guardadas en la columna x y cuyas coordenadas y están guardadas en la columna y. Para ello utiliza el método .scatterplot()de seaborn.Pon de título “Puntos”. No muestres etiqueta en el eje horizontal ni en el eje vertical. Haz que el tamaño delafiguresea de 5 x 5 y que el tamaño de los puntos sea de 500"
   ]
  },
  {
   "cell_type": "code",
   "execution_count": 45,
   "metadata": {
    "executionInfo": {
     "elapsed": 1108,
     "status": "ok",
     "timestamp": 1616446972397,
     "user": {
      "displayName": "Javier Rojas",
      "photoUrl": "",
      "userId": "16127771820052989754"
     },
     "user_tz": 180
    },
    "id": "WO4k5lbIvbxc"
   },
   "outputs": [],
   "source": [
    "import seaborn as sns\n",
    "import matplotlib.pyplot as plt"
   ]
  },
  {
   "cell_type": "code",
   "execution_count": 48,
   "metadata": {
    "colab": {
     "base_uri": "https://localhost:8080/",
     "height": 350
    },
    "executionInfo": {
     "elapsed": 1777,
     "status": "ok",
     "timestamp": 1616447072925,
     "user": {
      "displayName": "Javier Rojas",
      "photoUrl": "",
      "userId": "16127771820052989754"
     },
     "user_tz": 180
    },
    "id": "uwovSSQVvneb",
    "outputId": "b48e1353-d3d1-4bf2-9a28-54389cd9d700"
   },
   "outputs": [
    {
     "data": {
      "image/png": "[encoded data removed]",
      "text/plain": [
       "<Figure size 360x360 with 1 Axes>"
      ]
     },
     "metadata": {
      "needs_background": "light",
      "tags": []
     },
     "output_type": "display_data"
    }
   ],
   "source": [
    "plt.figure(figsize=(5,5))\n",
    "plt.title(\"Puntos\")\n",
    "sns.scatterplot(data=df,x=df[\"x\"],y=df[\"y\"],s=500)\n",
    "plt.show()"
   ]
  },
  {
   "cell_type": "markdown",
   "metadata": {
    "id": "cpUUO2WVwQP2"
   },
   "source": [
    "##9.\n",
    "Modifica el gráfico anterior para que el color venga dado por la variable Color de df y la forma de los puntos,por la variable Shape."
   ]
  },
  {
   "cell_type": "code",
   "execution_count": 51,
   "metadata": {
    "colab": {
     "base_uri": "https://localhost:8080/",
     "height": 350
    },
    "executionInfo": {
     "elapsed": 1052,
     "status": "ok",
     "timestamp": 1616447264612,
     "user": {
      "displayName": "Javier Rojas",
      "photoUrl": "",
      "userId": "16127771820052989754"
     },
     "user_tz": 180
    },
    "id": "8ogqJlSvwZSF",
    "outputId": "654b5b7e-a5ca-4499-fbbf-67aefba39c3a"
   },
   "outputs": [
    {
     "data": {
      "image/png": "[encoded data removed]",
      "text/plain": [
       "<Figure size 360x360 with 1 Axes>"
      ]
     },
     "metadata": {
      "needs_background": "light",
      "tags": []
     },
     "output_type": "display_data"
    }
   ],
   "source": [
    "plt.figure(figsize=(5,5))\n",
    "plt.title(\"Puntos\")\n",
    "sns.scatterplot(data=df,x=df[\"x\"],y=df[\"y\"],s=500,hue=\"Color\",palette=df[\"Color\"].tolist(),style=\"Color\",\n",
    "                markers=df[\"Shape\"].tolist())\n",
    "plt.show()"
   ]
  },
  {
   "cell_type": "markdown",
   "metadata": {
    "id": "wEh73aWzxD1Y"
   },
   "source": [
    "##10.\n",
    "Guarda en un csv la información de la lista data del ejercicio 6. Llama al archivo csv ej10.csv"
   ]
  },
  {
   "cell_type": "code",
   "execution_count": 52,
   "metadata": {
    "executionInfo": {
     "elapsed": 957,
     "status": "ok",
     "timestamp": 1616447445077,
     "user": {
      "displayName": "Javier Rojas",
      "photoUrl": "",
      "userId": "16127771820052989754"
     },
     "user_tz": 180
    },
    "id": "-a9_qCWzxIBD"
   },
   "outputs": [],
   "source": [
    "with open(path+\"ej10.csv\",mode=\"w\") as f:\n",
    "    writer=csv.writer(f)\n",
    "    writer.writerows(data)"
   ]
  }
 ],
 "metadata": {
  "colab": {
   "collapsed_sections": [],
   "name": "Tema18 Textos.ipynb",
   "provenance": [],
   "toc_visible": true
  },
  "kernelspec": {
   "display_name": "Python 3",
   "language": "python",
   "name": "python3"
  },
  "language_info": {
   "codemirror_mode": {
    "name": "ipython",
    "version": 3
   },
   "file_extension": ".py",
   "mimetype": "text/x-python",
   "name": "python",
   "nbconvert_exporter": "python",
   "pygments_lexer": "ipython3",
   "version": "3.7.10"
  }
 },
 "nbformat": 4,
 "nbformat_minor": 1
}
