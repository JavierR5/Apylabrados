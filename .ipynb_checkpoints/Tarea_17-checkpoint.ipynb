{
 "cells": [
  {
   "cell_type": "markdown",
   "metadata": {
    "id": "3pRqo3bHOc2j"
   },
   "source": [
    "# Una batalla pintoresca"
   ]
  },
  {
   "cell_type": "markdown",
   "metadata": {
    "id": "90wew6z7PWsB"
   },
   "source": [
    "Ya llevaban unos días navegando rumbo a Isla Lejana cuando un monstruo verde y de ojos rojos salió de las profundidades del mar. Pyratilla y el resto de la tripulación ya se estaban preparando para la batalla cuando de pronto oyeron una voz procedente del enemigo: \"¡Pero que imagen tan bella! Una tripulación preparada para defender hasta la muerte su capitán, su barco y su tesoro. ¡Hermoso!\"\n",
    "\n",
    "Sorprendido por la misteriosa voz, Pyratilla preguntó: \"¿Quién anda ahí?\". Acto seguido, la voz contestó: \"Tranquilos, tranquilos. Este monstruo es solamente un maniquí que yo manejo a distancia. Mi voz la estáis oyendo gracias a un altavoz oculto en la parte trasera del cuerpo del supuesto monstruo. Encantado de conoceros, me llamo Leodardo Nurero. Soy pintor minimalista y me encantaría haceros el retrato de la batalla por un módico precio.\"\n",
    "\n",
    "Sin poder creerse la situación, los Pyrates se miraron los unos a los otros. Tras un rato, Pyratilla habló de nuevo: \"Muchas gracias Leodardo, pero nos gustaría proseguir con nuestra aventura. Me temo que el retrato no nos interesa.\"\n",
    "\n",
    "Leodardo no quería dejar escapar a unos potenciales clientes. Además, hacía semanas que nadie pasaba por ahí. Así que contestó: \"¿Vuestro destino es Isla Lejana? Yo he estado unas cuantas veces ahí. ¿Sabéis ya todo lo que hay que saber para poder entrar y salir?\"\n",
    "\n",
    "Pyratilla miró a Pym y Pyerce. Ambos le miraron con duda, pues no tenían ni idea de a qué cosas se estaba refiriendo Leodardo. Tras unos instantes, Pyratilla se decidió a preguntar: \"¿Y qué es eso que debemos saber, exactamente?\"\n",
    "\n",
    "Leodardo tenía a los Pyrates donde quería, así que les dijo: \"Hagamos una apuesta. Si conseguís pintar un cuadro mejor que el que yo hubiera pintado, os diré todo gratis y os regalaré mi cuadro original (muy bien valorado en Isla Lejana, dicho sea de paso).\"\n",
    "\n",
    "Como Leodardo no continuaba, Pyratilla preguntó: \"¿Y qué pasa si nuestro cuadro no supera al tuyo?\". Leodardo estaba esperando esa pregunta. Su respuesta fue: \"Que me quedaré con todos vuestros tesoros.\"\n",
    "\n",
    "Pym y Pyerce empezaron a preguntarle asustados que si era necesario llevar a cabo esa apuesta. ¿No podían continuar solos sin ayuda como habían estado haciendo hasta ahora? ¿Cómo podrían seguir su aventura habiendo perdido todo lo que habían conseguido hasta el momento? Entre todas esas preguntas, Leodardo volvió a hablar: \"No estéis asustados. Para que veáis que quiero una competición justa, os ayudaré a empezar. Las librerías que vais a necesitar son únicamente las siguientes:\"\n",
    "\n"
   ]
  },
  {
   "cell_type": "code",
   "execution_count": 1,
   "metadata": {
    "executionInfo": {
     "elapsed": 1027,
     "status": "ok",
     "timestamp": 1616371415303,
     "user": {
      "displayName": "Javier Rojas",
      "photoUrl": "",
      "userId": "16127771820052989754"
     },
     "user_tz": 180
    },
    "id": "Z75Bf8rge2Jp"
   },
   "outputs": [],
   "source": [
    "import matplotlib.pyplot as plt\n",
    "import numpy as np"
   ]
  },
  {
   "cell_type": "markdown",
   "metadata": {
    "id": "mSEfGfMGZGap"
   },
   "source": [
    "\"Para empezar, voy a enseñaros a dibujar funciones, círculos y polígonos, pues es todo lo que vais a necesitar para conseguir esta obra de arte:\"\n",
    "\n",
    "\"Empecemos dibujando una función. Necesitaremos los valores sobre los cuales evaluaremos la función y la función. Para determinar los valores que suministraremos a la función, podemos usar el método `.linspace()` de `numpy` al que le proporcionamos el valor de incio, el valor de fin y el número de valores que queremos, $n$. El método nos devolverá un `ndarray` con $n$ valores equidistantes, el primero de los cuales será el valor de inicio, y el último, el valor de fin.\"\n",
    "\n",
    "\"Por ejemplo, en la siguiente línea de código estamos creando 100 valores equidistantes en el intervalo [0, 1]\""
   ]
  },
  {
   "cell_type": "code",
   "execution_count": 2,
   "metadata": {
    "executionInfo": {
     "elapsed": 944,
     "status": "ok",
     "timestamp": 1616371421650,
     "user": {
      "displayName": "Javier Rojas",
      "photoUrl": "",
      "userId": "16127771820052989754"
     },
     "user_tz": 180
    },
    "id": "QUu7CYKkimaS"
   },
   "outputs": [],
   "source": [
    "x = np.linspace(0, 1, 100)"
   ]
  },
  {
   "cell_type": "markdown",
   "metadata": {
    "id": "l6KioJ-zjIEn"
   },
   "source": [
    "\"Supongamos que queremos representar el valor que toman esos 100 puntos en la función tangente. Entonces usaríamos el método `.plot` de `matplotlib.pyplot` al que le pasamos como primer parámetro el array `x` y como segundo parámetro, `np.tan(x)`, es decir, la función tangente en este caso, evaluada en los puntos del array `x`. Podríamos añadir parámetros adicionales, como por ejemplo el color. Veamos como quedaría:\""
   ]
  },
  {
   "cell_type": "code",
   "execution_count": 3,
   "metadata": {
    "colab": {
     "base_uri": "https://localhost:8080/",
     "height": 265
    },
    "executionInfo": {
     "elapsed": 1010,
     "status": "ok",
     "timestamp": 1616371460938,
     "user": {
      "displayName": "Javier Rojas",
      "photoUrl": "",
      "userId": "16127771820052989754"
     },
     "user_tz": 180
    },
    "id": "COJOr3xmkY8m",
    "outputId": "bd740b4d-5865-4dc5-fdfe-cc1f6946e7ca"
   },
   "outputs": [
    {
     "data": {
      "image/png": "[encoded data removed]",
      "text/plain": [
       "<Figure size 432x288 with 1 Axes>"
      ]
     },
     "metadata": {
      "needs_background": "light",
      "tags": []
     },
     "output_type": "display_data"
    }
   ],
   "source": [
    "fig, ax = plt.subplots(1, 1)\n",
    "ax.plot(x, np.tan(x), color = \"#BF3EFF\")\n",
    "plt.show()"
   ]
  },
  {
   "cell_type": "markdown",
   "metadata": {
    "id": "O3LGmrjOZYG5"
   },
   "source": [
    "\"Sigamos viendo como se dibuja un círculo. Hay que seguir 2 pasos:\n",
    "\n",
    "* primero hay que crear el círculo y guardarlo en una variable. Para crear el círculo, usaremos el método `Circle()` de `matplotlib.pyplot` al que le suministraremos el centro en formato tupla y el radio. Podríamos añadir parámetros adicionales como color y transparencia\n",
    "* una vez creado el círculo y guardado en una variable, se usa el método `.add_artist()` al cual entre paréntesis se le proporciona la variable que guarada el círculo creado.\"\n",
    "\n",
    "\"Veamos cómo se vería un círculo centrado en el punto (0.5, 0.5), de radio 0.2 y de color `#BF3EFF`\""
   ]
  },
  {
   "cell_type": "code",
   "execution_count": 5,
   "metadata": {
    "colab": {
     "base_uri": "https://localhost:8080/",
     "height": 269
    },
    "executionInfo": {
     "elapsed": 1044,
     "status": "ok",
     "timestamp": 1616371512816,
     "user": {
      "displayName": "Javier Rojas",
      "photoUrl": "",
      "userId": "16127771820052989754"
     },
     "user_tz": 180
    },
    "id": "pFh6XIkBlqQy",
    "outputId": "97c942c1-107e-417b-c070-9f923c6cfe1b"
   },
   "outputs": [
    {
     "data": {
      "image/png": "[encoded data removed]",
      "text/plain": [
       "<Figure size 432x288 with 1 Axes>"
      ]
     },
     "metadata": {
      "needs_background": "light",
      "tags": []
     },
     "output_type": "display_data"
    }
   ],
   "source": [
    "fig, ax = plt.subplots(1, 1)\n",
    "circle = plt.Circle((0.5, 0.5), 0.2, color = \"#BF3EFF\")\n",
    "ax.add_artist(circle)\n",
    "ax.set_aspect(1)\n",
    "plt.show()"
   ]
  },
  {
   "cell_type": "markdown",
   "metadata": {
    "id": "5IKHz6ypl6PT"
   },
   "source": [
    "\"He añadido `ax.set_aspect(1)` para que los ejes tengan el mismo tamaño y se pueda ver el círculo cocrrectamente. De no añadir esa línea, el círculo seguiría siendo un círculo, pero se vería así, pues el eje horizontal es mayor al eje vertical\""
   ]
  },
  {
   "cell_type": "code",
   "execution_count": 6,
   "metadata": {
    "colab": {
     "base_uri": "https://localhost:8080/",
     "height": 269
    },
    "executionInfo": {
     "elapsed": 855,
     "status": "ok",
     "timestamp": 1616371536906,
     "user": {
      "displayName": "Javier Rojas",
      "photoUrl": "",
      "userId": "16127771820052989754"
     },
     "user_tz": 180
    },
    "id": "lGuy2IBrmY4v",
    "outputId": "87c8e65c-6630-4ae7-cc07-0a5d1a6435a9"
   },
   "outputs": [
    {
     "data": {
      "image/png": "[encoded data removed]",
      "text/plain": [
       "<Figure size 432x288 with 1 Axes>"
      ]
     },
     "metadata": {
      "needs_background": "light",
      "tags": []
     },
     "output_type": "display_data"
    }
   ],
   "source": [
    "fig, ax = plt.subplots(1, 1)\n",
    "circle = plt.Circle((0.5, 0.5), 0.2, color = \"#BF3EFF\")\n",
    "ax.add_artist(circle)\n",
    "plt.show()"
   ]
  },
  {
   "cell_type": "markdown",
   "metadata": {
    "id": "skGDZO4xZa6M"
   },
   "source": [
    "\"Acabemos viendo cómo dibujar un polígono dados sus vértices. Hay que seguir 2 pasos:\n",
    "\n",
    "* primero hay que crear el polígono y guardarlo en una variable. Para crear el polígono, usaremos el método `Polygon()` de `matplotlib.pyplot` al que le suministraremos los vértices. Podríamos añadir parámetros adicionales como color y transparencia\n",
    "* una vez creado el polígono y guardado en una variable, se usa el método `.add_artist()` al cual entre paréntesis se le proporciona la variable que guarada el polígono creado.\"\n",
    "\n",
    "\"Veamos cómo se vería un polígono con los vértices siguientes y de color `#BF3EFF`\""
   ]
  },
  {
   "cell_type": "code",
   "execution_count": 7,
   "metadata": {
    "colab": {
     "base_uri": "https://localhost:8080/",
     "height": 269
    },
    "executionInfo": {
     "elapsed": 1004,
     "status": "ok",
     "timestamp": 1616371576660,
     "user": {
      "displayName": "Javier Rojas",
      "photoUrl": "",
      "userId": "16127771820052989754"
     },
     "user_tz": 180
    },
    "id": "rsM9u7nynEDa",
    "outputId": "bc9a8ad0-f326-46b4-efc7-bc26a03f6a2c"
   },
   "outputs": [
    {
     "data": {
      "image/png": "[encoded data removed]",
      "text/plain": [
       "<Figure size 432x288 with 1 Axes>"
      ]
     },
     "metadata": {
      "needs_background": "light",
      "tags": []
     },
     "output_type": "display_data"
    }
   ],
   "source": [
    "fig, ax = plt.subplots(1, 1)\n",
    "vertex = np.array([[0.1, 0.1], [0.4, 0.2], [0.8, 0.9], [0.3, 0.6]])\n",
    "polygon = plt.Polygon(vertex, color = \"#BF3EFF\")\n",
    "ax.add_artist(polygon)\n",
    "plt.show()"
   ]
  },
  {
   "cell_type": "markdown",
   "metadata": {
    "id": "ssx2HSguoIfb"
   },
   "source": [
    "\"**¡Cuidado!** El orden en que se introducen los vértices importa.\""
   ]
  },
  {
   "cell_type": "code",
   "execution_count": 8,
   "metadata": {
    "colab": {
     "base_uri": "https://localhost:8080/",
     "height": 269
    },
    "executionInfo": {
     "elapsed": 1065,
     "status": "ok",
     "timestamp": 1616371598950,
     "user": {
      "displayName": "Javier Rojas",
      "photoUrl": "",
      "userId": "16127771820052989754"
     },
     "user_tz": 180
    },
    "id": "kMwwU-lToWBa",
    "outputId": "602fc2c9-d309-4e92-a639-eb5109c17b53"
   },
   "outputs": [
    {
     "data": {
      "image/png": "[encoded data removed]",
      "text/plain": [
       "<Figure size 432x288 with 1 Axes>"
      ]
     },
     "metadata": {
      "needs_background": "light",
      "tags": []
     },
     "output_type": "display_data"
    }
   ],
   "source": [
    "fig, ax = plt.subplots(1, 1)\n",
    "vertex = np.array([[0.1, 0.1], [0.3, 0.6], [0.4, 0.2], [0.8, 0.9],])\n",
    "polygon = plt.Polygon(vertex, color = \"#BF3EFF\")\n",
    "ax.add_artist(polygon)\n",
    "plt.show()"
   ]
  },
  {
   "cell_type": "markdown",
   "metadata": {
    "id": "Vzrj1K4iTVT8"
   },
   "source": [
    "\"Ahora que ya sabéis como dibujar todas los componentes del cuadro, podéis proceder a dibujarlo. El lienzo en el que reflejaréis la obra de arte os lo acabo de preparar: será un lienzo de 20 x 20. Además, para que situéis las figuras allí donde toca, también os he configurado el límite de los ejes vertical y horizontal:\""
   ]
  },
  {
   "cell_type": "code",
   "execution_count": 9,
   "metadata": {
    "colab": {
     "base_uri": "https://localhost:8080/",
     "height": 1000
    },
    "executionInfo": {
     "elapsed": 980,
     "status": "ok",
     "timestamp": 1616371623206,
     "user": {
      "displayName": "Javier Rojas",
      "photoUrl": "",
      "userId": "16127771820052989754"
     },
     "user_tz": 180
    },
    "id": "wHIHvarETrVt",
    "outputId": "13d5bd52-c217-49ed-9ed5-eb62a0e7289d"
   },
   "outputs": [
    {
     "data": {
      "text/plain": [
       "(-10.0, 10.0)"
      ]
     },
     "execution_count": 9,
     "metadata": {
      "tags": []
     },
     "output_type": "execute_result"
    },
    {
     "data": {
      "image/png": "[encoded data removed]",
      "text/plain": [
       "<Figure size 1440x1440 with 1 Axes>"
      ]
     },
     "metadata": {
      "needs_background": "light",
      "tags": []
     },
     "output_type": "display_data"
    }
   ],
   "source": [
    "# Configuración del lienzo\n",
    "size = 20\n",
    "fig, ax = plt.subplots(1, 1, figsize = (size, size))\n",
    "\n",
    "\n",
    "# Límites ejes\n",
    "lim = 10\n",
    "ax.set_xlim([-lim, lim])\n",
    "ax.set_ylim([-lim, lim])"
   ]
  },
  {
   "cell_type": "markdown",
   "metadata": {
    "id": "A2ijGpOGY5rR"
   },
   "source": [
    "\"**¡Cuidado!** Ya os aviso de que para que todo se pinte en el mismo cuadro, tendréis que tener todo en la misma celda de código.\""
   ]
  },
  {
   "cell_type": "markdown",
   "metadata": {
    "id": "ZbuI09DdUSC_"
   },
   "source": [
    "\"Por último, os daré la ubicación de todas las figuras. Lo único que tendréis que hacer es representarlas allí donde os voy a indicar y del color (y en algunos casos, la transparencia) que os diga.\"\n",
    "\n",
    "\"En `Python` se sigue la técnica del pintor: lo primero que se pinta es lo que más al fondo se encuentra.\"\n",
    "\n",
    "\"Os recomiendo empezar dibujando el sol:\n",
    "* primero dibujad un círculo con centro (10, 10), radio 5, de color `#FF4500` y con transparencia 0.4\n",
    "* ahora dibujad otro círculo con centro (10, 10), radio 4, de color `#FF7F00` y con transparencia 0.3\n",
    "* por último dibujad un círculo con centro (10, 10), radio 3, de color `#FFD700` y con transparencia 0.2\""
   ]
  },
  {
   "cell_type": "code",
   "execution_count": 10,
   "metadata": {
    "executionInfo": {
     "elapsed": 897,
     "status": "ok",
     "timestamp": 1616371740786,
     "user": {
      "displayName": "Javier Rojas",
      "photoUrl": "",
      "userId": "16127771820052989754"
     },
     "user_tz": 180
    },
    "id": "xwTLtdL_e6X4"
   },
   "outputs": [],
   "source": [
    "circulo_1 = plt.Circle((10,10),5,color = \"#FF4500\",alpha=0.4)\n",
    "circulo_2 = plt.Circle((10,10),4,color = \"#FF7F00\",alpha=0.3)\n",
    "circulo_1 = plt.Circle((10,10),3,color = \"#FFD700\",alpha=0.2"
   ]
  },
  {
   "cell_type": "markdown",
   "metadata": {
    "id": "3BlnTesPajgl"
   },
   "source": [
    "\"Para que no os resulte muy complejo, de todos vosotros solamente pintaremos a vuestro capitán con una espada y su sombrero:\n",
    "\n",
    "* primero, el cuerpo será un círculo de centro (-3, -4.5), radio 1 y color `#FF6A6A`\n",
    "* luego, la espada la dibujaremos en dos partes. Primero el filo y luego el mango. El filo está formado por los puntos `[-1.35, -3.85], [-1.6, -3.6], [-0.8, -2.8], [-0.4, -2.65], [-0.55, -3.05]` y es de color `#E0E0E0`. Luego, el mango está formado por los puntos `[-1.85, -3.35], [-2.05, -3.55], [-1.8, -3.8], [-2, -4], [-1.75, -4.25], [-1.55, -4.05], [-1.3, -4.3], [-1.1, -4.1], [-1.35, -3.85], [-1.6, -3.6]]` y es de color `#8F8F8F`.\n",
    "* ahora hay que dibujar la cabeza, que será un círculo de centro (-3, -3), radio 0.8 y color `#FF6A6A`\n",
    "* dibujad ahora el ojo derecho. Para ello, dibujad primero un círculo blanco con centro (-2.7, -2.8) y radio 0.2. Luego dibujad un círculo negro con el mismo centro que el anterior, pero con radio 0.1.\n",
    "* dibujad ahora el ojo izquierdo. Es exactamente igual que el ojo derecho, lo que en este caso tendréis que dibujar primero un círculo blanco con centro (-3.3, -2.8) y radio 0.2. Después, dibujad un círculo negro con el mismo centro que el anterior, pero con radio 0.1.\n",
    "* por último, dibujamos el sombrero. Los puntos que lo forman son `[-2, -2.5], [-2, -2.2], [-2.3, -2.2], [-2.3, -1.7], [-2.6, -1.4], [-3.4, -1.4], [-3.7, -1.7], [-3.7, -2.2], [-4, -2.2], [-4, -2.5]` y su color es negro.\""
   ]
  },
  {
   "cell_type": "code",
   "execution_count": 13,
   "metadata": {
    "executionInfo": {
     "elapsed": 1057,
     "status": "ok",
     "timestamp": 1616372354264,
     "user": {
      "displayName": "Javier Rojas",
      "photoUrl": "",
      "userId": "16127771820052989754"
     },
     "user_tz": 180
    },
    "id": "2qnrRPSZbL_v"
   },
   "outputs": [],
   "source": [
    "circulo_cap = plt.Circle((-3,-4.5),1,color=\"#FF6A6A\")\n",
    "filo_vertex = np.array([[-1.35, -3.85], [-1.6, -3.6], [-0.8, -2.8], [-0.4, -2.65], [-0.55, -3.05]])\n",
    "filo = plt.Polygon(filo_vertex,color=\"#E0E0E0\")\n",
    "mango_vertex = np.array([[-1.85, -3.35], [-2.05, -3.55], [-1.8, -3.8], [-2, -4], [-1.75, -4.25], [-1.55, -4.05], [-1.3, -4.3], [-1.1, -4.1], [-1.35, -3.85], [-1.6, -3.6]])\n",
    "mango = plt.Polygon(mango_vertex,color=\"#8F8F8F\")\n",
    "cabeza = plt.Circle((-3,-3),0.8,color=\"#FF6A6A\")\n",
    "ojo_d = plt.Circle((-2.7,-2.8),0.2,color=\"#FFFFFF\")\n",
    "pupila_d = plt.Circle((-2.7,-2.8),0.1,color=\"#000000\")\n",
    "ojo_i = plt.Circle((-3.3,-2.8),0.2,color=\"#FFFFFF\")\n",
    "pupila_d = plt.Circle((-3.3,-2.8),0.1,color=\"#000000\")\n",
    "barco = plt.Polygon(np.array([[-2, -2.5], [-2, -2.2], [-2.3, -2.2], [-2.3, -1.7], [-2.6, -1.4], [-3.4, -1.4], [-3.7, -1.7], [-3.7, -2.2], [-4, -2.2], [-4, -2.5]]),color=\"#000000\")"
   ]
  },
  {
   "cell_type": "markdown",
   "metadata": {
    "id": "2xZWuj3CdOHA"
   },
   "source": [
    "\"Es el turno de dibujar el barco.\n",
    "\n",
    "* primero recomiendo dibujar la base, que tiene por vértices `[-8, -8], [-2, -8], [-1, -5], [-9, -5]` y color `#CD853F`.\n",
    "* luego vamos a darle un color más oscuro a la parte más baja del casco. Los puntos de esta parte son `[-8, -8], [-2, -8], [-1.5, -6.5], [-8.5, -6.5]` y el color que le daremos será `#8B5A2B` con transparencia 0.3 \n",
    "* ahora, dibujad el mástil. Sus vértices son `[-4.8, -5], [-5.2, -5], [-5.2, 5], [-4.8, 5]` y el color es `#FFC125`. Ni el mástil ni la vela van a tener color de relleno. Entonces, en este caso tendrás que indicar el parámetro `fill = False` al método `plt.Polygon()`\n",
    "* dibujad la vela. Sus puntos son `[-5.2, 4.5], [-5.2, -2.5], [-9, 0]]` y su color será `#FFC1C1`. Recuerda indicar `fill = False` al método `plt.Polygon()` para no pintar relleno a la vela.\""
   ]
  },
  {
   "cell_type": "code",
   "execution_count": 14,
   "metadata": {
    "executionInfo": {
     "elapsed": 1132,
     "status": "ok",
     "timestamp": 1616372597141,
     "user": {
      "displayName": "Javier Rojas",
      "photoUrl": "",
      "userId": "16127771820052989754"
     },
     "user_tz": 180
    },
    "id": "Q7Q1eF0EdRwV"
   },
   "outputs": [],
   "source": [
    "base = plt.Polygon(np.array([[-8, -8], [-2, -8], [-1, -5], [-9, -5]]),color=\"#CD853F\")\n",
    "casco = plt.Polygon(np.array([[-8, -8], [-2, -8], [-1.5, -6.5], [-8.5, -6.5]]),color=\"#8B5A2B\",alpha=0.3)\n",
    "mastil = plt.Polygon(np.array([[-4.8, -5], [-5.2, -5], [-5.2, 5], [-4.8, 5]]),color=\"#FFC125\",fill=False)\n",
    "vela = plt.Polygon(np.array([[-5.2, 4.5], [-5.2, -2.5], [-9, 0]]),color=\"#FFC1C1\",fill=False)"
   ]
  },
  {
   "cell_type": "markdown",
   "metadata": {
    "id": "i6dVdtYjesgH"
   },
   "source": [
    "\"Ha llegado el momento de dibujar a mi monstruo verde y de ojos rojos.\n",
    "\n",
    "* primero pintad el cuerpo de color `#00CD00`. Los vértices son `[2.5, -8], [7.5, -8], [7.5, -3], [2.5, -3]`\n",
    "* a continuación pintad la boca. Los vértices son `[6.5, -7.5], [3.5, -7.5], [3.5, -5.5], [6.5, -5.5]` y es de color negro.\n",
    "* ahora pintad los dientes de color blanco. Los vértices son `[3.5, -5.5], [4, -6], [4.5, -5.5], [5, -6], [5.5, -5.5], [6, -6], [6.5, -5.5]`\n",
    "* por último pintad los ojos de color `#FF4040`. Los vértices para el ojo derecho son `[6.5, -3.3], [5.5, -4.3], [6.5, -5.3]` y los del ojo izquierdo, `[3.5, -3.3], [4.5, -4.3], [3.5, -5.3]`\""
   ]
  },
  {
   "cell_type": "code",
   "execution_count": 15,
   "metadata": {
    "executionInfo": {
     "elapsed": 874,
     "status": "ok",
     "timestamp": 1616372925057,
     "user": {
      "displayName": "Javier Rojas",
      "photoUrl": "",
      "userId": "16127771820052989754"
     },
     "user_tz": 180
    },
    "id": "h-2TdPGUe1EV"
   },
   "outputs": [],
   "source": [
    "cuerpo_monstruo = plt.Polygon(np.array([[-5.2, 4.5], [-5.2, -2.5], [-9, 0]]),color=\"#00CD00\")\n",
    "boca_monstruo = plt.Polygon(np.array([[6.5, -7.5], [3.5, -7.5], [3.5, -5.5], [6.5, -5.5]]),color=\"#000000\")\n",
    "dientes_monstruo = plt.Polygon(np.array([[3.5, -5.5], [4, -6], [4.5, -5.5], [5, -6], [5.5, -5.5], [6, -6], [6.5, -5.5]]),color=\"#FFFFFF\")\n",
    "ojos_d = plt.Polygon(np.array([[6.5, -3.3], [5.5, -4.3], [6.5, -5.3]]),color=\"#FF4040\")\n",
    "ojos_i = plt.Polygon(np.array([[3.5, -3.3], [4.5, -4.3], [3.5, -5.3]]),color=\"#FF4040\")"
   ]
  },
  {
   "cell_type": "markdown",
   "metadata": {
    "id": "-ezYrDqSfWRR"
   },
   "source": [
    "\"Por último, vais a tener que pintar las olas del mar. Para ello vais a usar dos métodos de numpy: `np.sin()` y `np.cos()`.\n",
    "\n",
    "Tomando como `x = np.linspace(-10, 10, 400)`, \n",
    "\n",
    "* pinta la función `sin(x) - 10` de color `#000080`\n",
    "* pinta la función `cos(x) - 10` de color `#00CDCD`\n",
    "* pinta la función `sin(x) - 9` de color `#0000CD`\n",
    "* pinta la función `cos(x) - 9` de color `#00EEEE`\n",
    "* pinta la función `sin(x) - 8` de color `#0000FF`\n",
    "* pinta la función `cos(x) - 8` de color `#00FFFF`\""
   ]
  },
  {
   "cell_type": "code",
   "execution_count": null,
   "metadata": {
    "id": "hMB8go80fWa3"
   },
   "outputs": [],
   "source": [
    "x = np.linspace(-10,10,400)\n",
    "y1 = plt.plot(np.sin(x)-10,color=\"#000080\")\n",
    "y2 = plt.plot(np.sin(x)-9,color=\"#0000CD\")\n",
    "y3 = plt.plot(np.sin(x)-8,color=\"#0000FF\")\n",
    "y4 = plt.plot(np.cos(x)-10,color=\"#00CDCD\")\n",
    "y5 = plt.plot(np.cos(x)-9,color=\"#00EEEE\")\n",
    "y6 = plt.plot(np.cos(x)-8,color=\"#00FFFF\")"
   ]
  },
  {
   "cell_type": "markdown",
   "metadata": {
    "id": "_IACcOlEgNNW"
   },
   "source": [
    "\"Con todo lo anterior, une todas las líneas de código en un solo chunk y finaliza con un `plt.show()` para ver el resultado.\""
   ]
  },
  {
   "cell_type": "code",
   "execution_count": 18,
   "metadata": {
    "colab": {
     "base_uri": "https://localhost:8080/",
     "height": 1000
    },
    "executionInfo": {
     "elapsed": 1551,
     "status": "ok",
     "timestamp": 1616373733090,
     "user": {
      "displayName": "Javier Rojas",
      "photoUrl": "",
      "userId": "16127771820052989754"
     },
     "user_tz": 180
    },
    "id": "W1tVhaBoX19Q",
    "outputId": "1195c959-1916-40b4-b9b2-90f3c28fae3b"
   },
   "outputs": [
    {
     "data": {
      "image/png": "[encoded data removed]",
      "text/plain": [
       "<Figure size 1440x1440 with 1 Axes>"
      ]
     },
     "metadata": {
      "needs_background": "light",
      "tags": []
     },
     "output_type": "display_data"
    }
   ],
   "source": [
    "# Configuración del lienzo\n",
    "size = 20\n",
    "fig, ax = plt.subplots(1, 1, figsize = (size, size))\n",
    "\n",
    "\n",
    "# Límites ejes\n",
    "lim = 10\n",
    "ax.set_xlim([-lim, lim])\n",
    "ax.set_ylim([-lim, lim])\n",
    "\n",
    "#Sol\n",
    "circulo_1 = plt.Circle((10,10),5,color = \"#FF4500\",alpha=0.4)\n",
    "circulo_2 = plt.Circle((10,10),4,color = \"#FF7F00\",alpha=0.3)\n",
    "circulo_3 = plt.Circle((10,10),3,color = \"#FFD700\",alpha=0.2)\n",
    "ax.add_artist(circulo_1)\n",
    "ax.add_artist(circulo_2)\n",
    "ax.add_artist(circulo_3)\n",
    "\n",
    "#Capitan\n",
    "circulo_cap = plt.Circle((-3,-4.5),1,color=\"#FF6A6A\")\n",
    "filo_vertex = np.array([[-1.35, -3.85], [-1.6, -3.6], [-0.8, -2.8], [-0.4, -2.65], [-0.55, -3.05]])\n",
    "filo = plt.Polygon(filo_vertex,color=\"#E0E0E0\")\n",
    "mango_vertex = np.array([[-1.85, -3.35], [-2.05, -3.55], [-1.8, -3.8], [-2, -4], [-1.75, -4.25], [-1.55, -4.05], [-1.3, -4.3], [-1.1, -4.1], [-1.35, -3.85], [-1.6, -3.6]])\n",
    "mango = plt.Polygon(mango_vertex,color=\"#8F8F8F\")\n",
    "cabeza = plt.Circle((-3,-3),0.8,color=\"#FF6A6A\")\n",
    "ojo_d = plt.Circle((-2.7,-2.8),0.2,color=\"#FFFFFF\")\n",
    "pupila_d = plt.Circle((-2.7,-2.8),0.1,color=\"#000000\")\n",
    "ojo_i = plt.Circle((-3.3,-2.8),0.2,color=\"#FFFFFF\")\n",
    "pupila_i = plt.Circle((-3.3,-2.8),0.1,color=\"#000000\")\n",
    "sombrero = plt.Polygon(np.array([[-2, -2.5], [-2, -2.2], [-2.3, -2.2], [-2.3, -1.7], [-2.6, -1.4], [-3.4, -1.4], [-3.7, -1.7], [-3.7, -2.2], [-4, -2.2], [-4, -2.5]]),color=\"#000000\")\n",
    "ax.add_artist(circulo_cap)\n",
    "ax.add_artist(filo)\n",
    "ax.add_artist(mango)\n",
    "ax.add_artist(cabeza)\n",
    "ax.add_artist(ojo_d)\n",
    "ax.add_artist(pupila_d)\n",
    "ax.add_artist(ojo_i)\n",
    "ax.add_artist(pupila_i)\n",
    "ax.add_artist(sombrero)\n",
    "\n",
    "#Barco\n",
    "base = plt.Polygon(np.array([[-8, -8], [-2, -8], [-1, -5], [-9, -5]]),color=\"#CD853F\")\n",
    "casco = plt.Polygon(np.array([[-8, -8], [-2, -8], [-1.5, -6.5], [-8.5, -6.5]]),color=\"#8B5A2B\",alpha=0.3)\n",
    "mastil = plt.Polygon(np.array([[-4.8, -5], [-5.2, -5], [-5.2, 5], [-4.8, 5]]),color=\"#FFC125\",fill=False)\n",
    "vela = plt.Polygon(np.array([[-5.2, 4.5], [-5.2, -2.5], [-9, 0]]),color=\"#FFC1C1\",fill=False)\n",
    "ax.add_artist(base)\n",
    "ax.add_artist(casco)\n",
    "ax.add_artist(mastil)\n",
    "ax.add_artist(vela)\n",
    "\n",
    "#Monstruo\n",
    "cuerpo_monstruo = plt.Polygon(np.array([[-5.2, 4.5], [-5.2, -2.5], [-9, 0]]),color=\"#00CD00\")\n",
    "boca_monstruo = plt.Polygon(np.array([[6.5, -7.5], [3.5, -7.5], [3.5, -5.5], [6.5, -5.5]]),color=\"#000000\")\n",
    "dientes_monstruo = plt.Polygon(np.array([[3.5, -5.5], [4, -6], [4.5, -5.5], [5, -6], [5.5, -5.5], [6, -6], [6.5, -5.5]]),color=\"#FFFFFF\")\n",
    "ojos_d = plt.Polygon(np.array([[6.5, -3.3], [5.5, -4.3], [6.5, -5.3]]),color=\"#FF4040\")\n",
    "ojos_i = plt.Polygon(np.array([[3.5, -3.3], [4.5, -4.3], [3.5, -5.3]]),color=\"#FF4040\")\n",
    "ax.add_artist(cuerpo_monstruo)\n",
    "ax.add_artist(boca_monstruo)\n",
    "ax.add_artist(dientes_monstruo)\n",
    "ax.add_artist(ojos_d)\n",
    "ax.add_artist(ojos_i)\n",
    "\n",
    "#Olas\n",
    "x = np.linspace(-10,10,400)\n",
    "y1 = plt.plot(np.sin(x)-10,color=\"#000080\")\n",
    "y2 = plt.plot(np.sin(x)-9,color=\"#0000CD\")\n",
    "y3 = plt.plot(np.sin(x)-8,color=\"#0000FF\")\n",
    "y4 = plt.plot(np.cos(x)-10,color=\"#00CDCD\")\n",
    "y5 = plt.plot(np.cos(x)-9,color=\"#00EEEE\")\n",
    "y6 = plt.plot(np.cos(x)-8,color=\"#00FFFF\")\n",
    "\n",
    "plt.show()"
   ]
  }
 ],
 "metadata": {
  "colab": {
   "collapsed_sections": [],
   "name": "Tarea_17.ipynb",
   "provenance": []
  },
  "kernelspec": {
   "display_name": "Python 3",
   "language": "python",
   "name": "python3"
  },
  "language_info": {
   "codemirror_mode": {
    "name": "ipython",
    "version": 3
   },
   "file_extension": ".py",
   "mimetype": "text/x-python",
   "name": "python",
   "nbconvert_exporter": "python",
   "pygments_lexer": "ipython3",
   "version": "3.7.10"
  }
 },
 "nbformat": 4,
 "nbformat_minor": 1
}
